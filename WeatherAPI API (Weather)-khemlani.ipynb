{
 "cells": [
  {
   "cell_type": "markdown",
   "metadata": {},
   "source": [
    "# WeatherAPI (Weather)\n",
    "\n",
    "Answer the following questions using [WeatherAPI](http://www.weatherapi.com/). I've added three cells for most questions but you're free to use more or less! Hold `Shift` and hit `Enter` to run a cell, and use the `+` on the top left to add a new cell to a notebook.\n",
    "\n",
    "Be sure to take advantage of both the documentation and the API Explorer!\n",
    "\n",
    "## 0) Import any libraries you might need\n",
    "\n",
    "- *Tip: We're going to be downloading things from the internet, so we probably need `requests`.*\n",
    "- *Tip: Remember you only need to import requests once!*"
   ]
  },
  {
   "cell_type": "code",
   "execution_count": 11,
   "metadata": {},
   "outputs": [],
   "source": [
    "import requests"
   ]
  },
  {
   "cell_type": "code",
   "execution_count": 13,
   "metadata": {},
   "outputs": [],
   "source": [
    "weather = requests.get(\"http://api.weatherapi.com/v1/current.json?key=c55b37d89f7241f7a3f152341211906&q=Kingston&aqi=no\")"
   ]
  },
  {
   "cell_type": "markdown",
   "metadata": {
    "collapsed": true
   },
   "source": [
    "## 1) Make a request to the Weather API for where you were born (or lived, or want to visit!).\n",
    "\n",
    "- *Tip: This sure seems familiar.*"
   ]
  },
  {
   "cell_type": "code",
   "execution_count": 16,
   "metadata": {},
   "outputs": [],
   "source": [
    "ja = weather.json()"
   ]
  },
  {
   "cell_type": "code",
   "execution_count": 17,
   "metadata": {},
   "outputs": [
    {
     "name": "stdout",
     "output_type": "stream",
     "text": [
      "{'location': {'name': 'Kingston', 'region': 'Saint Andrew', 'country': 'Jamaica', 'lat': 18.0, 'lon': -76.8, 'tz_id': 'America/Jamaica', 'localtime_epoch': 1624214087, 'localtime': '2021-06-20 13:34'}, 'current': {'last_updated_epoch': 1624213800, 'last_updated': '2021-06-20 13:30', 'temp_c': 32.0, 'temp_f': 89.6, 'is_day': 1, 'condition': {'text': 'Partly cloudy', 'icon': '//cdn.weatherapi.com/weather/64x64/day/116.png', 'code': 1003}, 'wind_mph': 28.6, 'wind_kph': 46.1, 'wind_degree': 120, 'wind_dir': 'ESE', 'pressure_mb': 1015.0, 'pressure_in': 30.4, 'precip_mm': 0.0, 'precip_in': 0.0, 'humidity': 63, 'cloud': 25, 'feelslike_c': 34.9, 'feelslike_f': 94.8, 'vis_km': 10.0, 'vis_miles': 6.0, 'uv': 8.0, 'gust_mph': 11.4, 'gust_kph': 18.4}}\n"
     ]
    }
   ],
   "source": [
    "print(ja)"
   ]
  },
  {
   "cell_type": "code",
   "execution_count": null,
   "metadata": {
    "collapsed": true
   },
   "outputs": [],
   "source": []
  },
  {
   "cell_type": "markdown",
   "metadata": {},
   "source": [
    "## 2) What's the current wind speed, and how much warmer does it feel than it actually is?\n",
    "\n",
    "- *Tip: You can do this by browsing through the dictionaries, but it might be easier to read the documentation*\n",
    "- *Tip: For the second half: it **is** one temperature, and it **feels** a different temperature. Calculate the difference. Same as we did last time!*"
   ]
  },
  {
   "cell_type": "code",
   "execution_count": 26,
   "metadata": {},
   "outputs": [
    {
     "name": "stdout",
     "output_type": "stream",
     "text": [
      "28.6 mph is the current wind speed.\n"
     ]
    }
   ],
   "source": [
    "print(ja['current']['wind_mph'], \"mph is the current wind speed.\")"
   ]
  },
  {
   "cell_type": "code",
   "execution_count": 27,
   "metadata": {},
   "outputs": [],
   "source": [
    "a = ja['current']['feelslike_f'] - ja['current']['temp_f']"
   ]
  },
  {
   "cell_type": "code",
   "execution_count": 28,
   "metadata": {},
   "outputs": [
    {
     "name": "stdout",
     "output_type": "stream",
     "text": [
      "It feels 5 degrees warmer than it actually is.\n"
     ]
    }
   ],
   "source": [
    "print(f\"It feels {(round(a))} degrees warmer than it actually is.\")"
   ]
  },
  {
   "cell_type": "markdown",
   "metadata": {},
   "source": [
    "## 3) What is the API endpoint for moon-related information? For the place you decided on above, how much of the moon will be visible on next Thursday?\n",
    "\n",
    "- *Tip: Check the documentation!*\n",
    "- *Tip: If you aren't sure what something means, ask in Slack*"
   ]
  },
  {
   "cell_type": "code",
   "execution_count": 29,
   "metadata": {},
   "outputs": [
    {
     "name": "stdout",
     "output_type": "stream",
     "text": [
      "http://api.weatherapi.com/v1/astronomy.json\n"
     ]
    }
   ],
   "source": [
    "print(\"http://api.weatherapi.com/v1/astronomy.json\")"
   ]
  },
  {
   "cell_type": "code",
   "execution_count": 32,
   "metadata": {},
   "outputs": [],
   "source": [
    "weather1 = requests.get(\"http://api.weatherapi.com/v1/astronomy.json?key=c55b37d89f7241f7a3f152341211906&q=Kingston&dt=2021-06-24\")"
   ]
  },
  {
   "cell_type": "code",
   "execution_count": 33,
   "metadata": {},
   "outputs": [],
   "source": [
    "ja_moon = weather1.json()"
   ]
  },
  {
   "cell_type": "code",
   "execution_count": 35,
   "metadata": {},
   "outputs": [
    {
     "name": "stdout",
     "output_type": "stream",
     "text": [
      "There will be a Full Moon on Thursday.\n"
     ]
    }
   ],
   "source": [
    "print(\"There will be a\", ja_moon['astronomy']['astro']['moon_phase'], \"on Thursday.\")"
   ]
  },
  {
   "cell_type": "markdown",
   "metadata": {},
   "source": [
    "## 4) What's the difference between the high and low temperatures for today?\n",
    "\n",
    "- *Tip: When you requested moon data, you probably overwrote your variables! If so, you'll need to make a new request.*"
   ]
  },
  {
   "cell_type": "code",
   "execution_count": 38,
   "metadata": {},
   "outputs": [],
   "source": [
    "weather2 = requests.get(\"http://api.weatherapi.com/v1/forecast.json?key=c55b37d89f7241f7a3f152341211906&q=Kingston&days=1&aqi=no&alerts=no\")"
   ]
  },
  {
   "cell_type": "code",
   "execution_count": 39,
   "metadata": {},
   "outputs": [],
   "source": [
    "ja_hl = weather2.json()"
   ]
  },
  {
   "cell_type": "code",
   "execution_count": 63,
   "metadata": {},
   "outputs": [
    {
     "name": "stdout",
     "output_type": "stream",
     "text": [
      "The difference between the high and low temperuatures is 15 degrees.\n"
     ]
    }
   ],
   "source": [
    "for x in ja_hl['forecast']['forecastday']:\n",
    "        print(f\"The difference between the high and low temperuatures is {abs(round(x['day']['maxtemp_f'] - x['day']['mintemp_f']))} degrees.\")"
   ]
  },
  {
   "cell_type": "markdown",
   "metadata": {
    "collapsed": true
   },
   "source": [
    "## 4.5) How can you avoid the \"oh no I don't have the data any more because I made another request\" problem in the future?\n",
    "\n",
    "What variable(s) do you have to rename, and what would you rename them?"
   ]
  },
  {
   "cell_type": "code",
   "execution_count": 64,
   "metadata": {},
   "outputs": [
    {
     "name": "stdout",
     "output_type": "stream",
     "text": [
      "Name the .json variable something different each time?\n"
     ]
    }
   ],
   "source": [
    "print(\"Name the .json variable something different each time?\")"
   ]
  },
  {
   "cell_type": "code",
   "execution_count": null,
   "metadata": {},
   "outputs": [],
   "source": []
  },
  {
   "cell_type": "markdown",
   "metadata": {},
   "source": [
    "## 5) Go through the daily forecasts, printing out the next week's worth of predictions.\n",
    "\n",
    "I'd like to know the **high temperature** for each day, and whether it's **hot, warm, or cold** (based on what temperatures you think are hot, warm or cold).\n",
    "\n",
    "- *Tip: You'll need to use an `if` statement to say whether it is hot, warm or cold.*"
   ]
  },
  {
   "cell_type": "code",
   "execution_count": 66,
   "metadata": {},
   "outputs": [],
   "source": [
    "weather3 = requests.get(\"http://api.weatherapi.com/v1/forecast.json?key=c55b37d89f7241f7a3f152341211906&q=Kingston&days=7&aqi=no&alerts=no\")"
   ]
  },
  {
   "cell_type": "code",
   "execution_count": 67,
   "metadata": {},
   "outputs": [],
   "source": [
    "ja_week = weather3.json()"
   ]
  },
  {
   "cell_type": "code",
   "execution_count": 70,
   "metadata": {},
   "outputs": [
    {
     "name": "stdout",
     "output_type": "stream",
     "text": [
      "[{'date': '2021-06-20', 'date_epoch': 1624147200, 'day': {'maxtemp_c': 33.7, 'maxtemp_f': 92.7, 'mintemp_c': 25.4, 'mintemp_f': 77.7, 'avgtemp_c': 28.8, 'avgtemp_f': 83.9, 'maxwind_mph': 15.0, 'maxwind_kph': 24.1, 'totalprecip_mm': 0.0, 'totalprecip_in': 0.0, 'avgvis_km': 10.0, 'avgvis_miles': 6.0, 'avghumidity': 67.0, 'daily_will_it_rain': 0, 'daily_chance_of_rain': '0', 'daily_will_it_snow': 0, 'daily_chance_of_snow': '0', 'condition': {'text': 'Partly cloudy', 'icon': '//cdn.weatherapi.com/weather/64x64/day/116.png', 'code': 1003}, 'uv': 11.0}, 'astro': {'sunrise': '05:33 AM', 'sunset': '06:45 PM', 'moonrise': '02:37 PM', 'moonset': '01:48 AM', 'moon_phase': 'Full Moon', 'moon_illumination': '76'}, 'hour': [{'time_epoch': 1624165200, 'time': '2021-06-20 00:00', 'temp_c': 25.6, 'temp_f': 78.1, 'is_day': 0, 'condition': {'text': 'Partly cloudy', 'icon': '//cdn.weatherapi.com/weather/64x64/night/116.png', 'code': 1003}, 'wind_mph': 6.9, 'wind_kph': 11.2, 'wind_degree': 71, 'wind_dir': 'ENE', 'pressure_mb': 1016.0, 'pressure_in': 30.5, 'precip_mm': 0.0, 'precip_in': 0.0, 'humidity': 78, 'cloud': 5, 'feelslike_c': 27.7, 'feelslike_f': 81.9, 'windchill_c': 25.6, 'windchill_f': 78.1, 'heatindex_c': 27.7, 'heatindex_f': 81.9, 'dewpoint_c': 21.3, 'dewpoint_f': 70.3, 'will_it_rain': 0, 'chance_of_rain': '0', 'will_it_snow': 0, 'chance_of_snow': '0', 'vis_km': 10.0, 'vis_miles': 6.0, 'gust_mph': 10.7, 'gust_kph': 17.3, 'uv': 1.0}, {'time_epoch': 1624168800, 'time': '2021-06-20 01:00', 'temp_c': 25.5, 'temp_f': 77.9, 'is_day': 0, 'condition': {'text': 'Partly cloudy', 'icon': '//cdn.weatherapi.com/weather/64x64/night/116.png', 'code': 1003}, 'wind_mph': 6.5, 'wind_kph': 10.4, 'wind_degree': 68, 'wind_dir': 'ENE', 'pressure_mb': 1016.0, 'pressure_in': 30.5, 'precip_mm': 0.0, 'precip_in': 0.0, 'humidity': 80, 'cloud': 4, 'feelslike_c': 27.8, 'feelslike_f': 82.0, 'windchill_c': 25.5, 'windchill_f': 77.9, 'heatindex_c': 27.8, 'heatindex_f': 82.0, 'dewpoint_c': 21.8, 'dewpoint_f': 71.2, 'will_it_rain': 0, 'chance_of_rain': '0', 'will_it_snow': 0, 'chance_of_snow': '0', 'vis_km': 10.0, 'vis_miles': 6.0, 'gust_mph': 9.6, 'gust_kph': 15.5, 'uv': 1.0}, {'time_epoch': 1624172400, 'time': '2021-06-20 02:00', 'temp_c': 25.5, 'temp_f': 77.9, 'is_day': 0, 'condition': {'text': 'Partly cloudy', 'icon': '//cdn.weatherapi.com/weather/64x64/night/116.png', 'code': 1003}, 'wind_mph': 6.5, 'wind_kph': 10.4, 'wind_degree': 66, 'wind_dir': 'ENE', 'pressure_mb': 1016.0, 'pressure_in': 30.5, 'precip_mm': 0.0, 'precip_in': 0.0, 'humidity': 82, 'cloud': 5, 'feelslike_c': 27.9, 'feelslike_f': 82.2, 'windchill_c': 25.5, 'windchill_f': 77.9, 'heatindex_c': 27.9, 'heatindex_f': 82.2, 'dewpoint_c': 22.1, 'dewpoint_f': 71.8, 'will_it_rain': 0, 'chance_of_rain': '0', 'will_it_snow': 0, 'chance_of_snow': '0', 'vis_km': 10.0, 'vis_miles': 6.0, 'gust_mph': 9.4, 'gust_kph': 15.1, 'uv': 1.0}, {'time_epoch': 1624176000, 'time': '2021-06-20 03:00', 'temp_c': 25.4, 'temp_f': 77.7, 'is_day': 0, 'condition': {'text': 'Partly cloudy', 'icon': '//cdn.weatherapi.com/weather/64x64/night/116.png', 'code': 1003}, 'wind_mph': 6.3, 'wind_kph': 10.1, 'wind_degree': 63, 'wind_dir': 'ENE', 'pressure_mb': 1016.0, 'pressure_in': 30.5, 'precip_mm': 0.0, 'precip_in': 0.0, 'humidity': 83, 'cloud': 5, 'feelslike_c': 27.9, 'feelslike_f': 82.2, 'windchill_c': 25.4, 'windchill_f': 77.7, 'heatindex_c': 27.9, 'heatindex_f': 82.2, 'dewpoint_c': 22.3, 'dewpoint_f': 72.1, 'will_it_rain': 0, 'chance_of_rain': '0', 'will_it_snow': 0, 'chance_of_snow': '0', 'vis_km': 10.0, 'vis_miles': 6.0, 'gust_mph': 9.2, 'gust_kph': 14.8, 'uv': 1.0}, {'time_epoch': 1624179600, 'time': '2021-06-20 04:00', 'temp_c': 25.4, 'temp_f': 77.7, 'is_day': 0, 'condition': {'text': 'Partly cloudy', 'icon': '//cdn.weatherapi.com/weather/64x64/night/116.png', 'code': 1003}, 'wind_mph': 6.3, 'wind_kph': 10.1, 'wind_degree': 60, 'wind_dir': 'ENE', 'pressure_mb': 1016.0, 'pressure_in': 30.5, 'precip_mm': 0.0, 'precip_in': 0.0, 'humidity': 85, 'cloud': 5, 'feelslike_c': 28.0, 'feelslike_f': 82.4, 'windchill_c': 25.4, 'windchill_f': 77.7, 'heatindex_c': 28.0, 'heatindex_f': 82.4, 'dewpoint_c': 22.6, 'dewpoint_f': 72.7, 'will_it_rain': 0, 'chance_of_rain': '0', 'will_it_snow': 0, 'chance_of_snow': '0', 'vis_km': 10.0, 'vis_miles': 6.0, 'gust_mph': 8.9, 'gust_kph': 14.4, 'uv': 1.0}, {'time_epoch': 1624183200, 'time': '2021-06-20 05:00', 'temp_c': 26.1, 'temp_f': 79.0, 'is_day': 0, 'condition': {'text': 'Partly cloudy', 'icon': '//cdn.weatherapi.com/weather/64x64/night/116.png', 'code': 1003}, 'wind_mph': 6.5, 'wind_kph': 10.4, 'wind_degree': 65, 'wind_dir': 'ENE', 'pressure_mb': 1016.0, 'pressure_in': 30.5, 'precip_mm': 0.0, 'precip_in': 0.0, 'humidity': 81, 'cloud': 5, 'feelslike_c': 28.8, 'feelslike_f': 83.8, 'windchill_c': 26.1, 'windchill_f': 79.0, 'heatindex_c': 28.8, 'heatindex_f': 83.8, 'dewpoint_c': 22.5, 'dewpoint_f': 72.5, 'will_it_rain': 0, 'chance_of_rain': '0', 'will_it_snow': 0, 'chance_of_snow': '0', 'vis_km': 10.0, 'vis_miles': 6.0, 'gust_mph': 8.5, 'gust_kph': 13.7, 'uv': 1.0}, {'time_epoch': 1624186800, 'time': '2021-06-20 06:00', 'temp_c': 26.8, 'temp_f': 80.2, 'is_day': 1, 'condition': {'text': 'Partly cloudy', 'icon': '//cdn.weatherapi.com/weather/64x64/day/116.png', 'code': 1003}, 'wind_mph': 6.5, 'wind_kph': 10.4, 'wind_degree': 70, 'wind_dir': 'ENE', 'pressure_mb': 1017.0, 'pressure_in': 30.5, 'precip_mm': 0.0, 'precip_in': 0.0, 'humidity': 77, 'cloud': 5, 'feelslike_c': 29.6, 'feelslike_f': 85.3, 'windchill_c': 26.8, 'windchill_f': 80.2, 'heatindex_c': 29.6, 'heatindex_f': 85.3, 'dewpoint_c': 22.5, 'dewpoint_f': 72.5, 'will_it_rain': 0, 'chance_of_rain': '0', 'will_it_snow': 0, 'chance_of_snow': '0', 'vis_km': 10.0, 'vis_miles': 6.0, 'gust_mph': 8.3, 'gust_kph': 13.3, 'uv': 7.0}, {'time_epoch': 1624190400, 'time': '2021-06-20 07:00', 'temp_c': 27.5, 'temp_f': 81.5, 'is_day': 1, 'condition': {'text': 'Partly cloudy', 'icon': '//cdn.weatherapi.com/weather/64x64/day/116.png', 'code': 1003}, 'wind_mph': 6.7, 'wind_kph': 10.8, 'wind_degree': 75, 'wind_dir': 'ENE', 'pressure_mb': 1017.0, 'pressure_in': 30.5, 'precip_mm': 0.0, 'precip_in': 0.0, 'humidity': 74, 'cloud': 6, 'feelslike_c': 30.4, 'feelslike_f': 86.7, 'windchill_c': 27.5, 'windchill_f': 81.5, 'heatindex_c': 30.4, 'heatindex_f': 86.7, 'dewpoint_c': 22.4, 'dewpoint_f': 72.3, 'will_it_rain': 0, 'chance_of_rain': '0', 'will_it_snow': 0, 'chance_of_snow': '0', 'vis_km': 10.0, 'vis_miles': 6.0, 'gust_mph': 7.8, 'gust_kph': 12.6, 'uv': 7.0}, {'time_epoch': 1624194000, 'time': '2021-06-20 08:00', 'temp_c': 29.2, 'temp_f': 84.6, 'is_day': 1, 'condition': {'text': 'Partly cloudy', 'icon': '//cdn.weatherapi.com/weather/64x64/day/116.png', 'code': 1003}, 'wind_mph': 7.8, 'wind_kph': 12.6, 'wind_degree': 86, 'wind_dir': 'E', 'pressure_mb': 1017.0, 'pressure_in': 30.5, 'precip_mm': 0.0, 'precip_in': 0.0, 'humidity': 66, 'cloud': 6, 'feelslike_c': 32.3, 'feelslike_f': 90.1, 'windchill_c': 29.2, 'windchill_f': 84.6, 'heatindex_c': 32.3, 'heatindex_f': 90.1, 'dewpoint_c': 21.9, 'dewpoint_f': 71.4, 'will_it_rain': 0, 'chance_of_rain': '0', 'will_it_snow': 0, 'chance_of_snow': '0', 'vis_km': 10.0, 'vis_miles': 6.0, 'gust_mph': 8.9, 'gust_kph': 14.4, 'uv': 7.0}, {'time_epoch': 1624197600, 'time': '2021-06-20 09:00', 'temp_c': 31.0, 'temp_f': 87.8, 'is_day': 1, 'condition': {'text': 'Partly cloudy', 'icon': '//cdn.weatherapi.com/weather/64x64/day/116.png', 'code': 1003}, 'wind_mph': 8.7, 'wind_kph': 14.0, 'wind_degree': 96, 'wind_dir': 'E', 'pressure_mb': 1017.0, 'pressure_in': 30.5, 'precip_mm': 0.0, 'precip_in': 0.0, 'humidity': 58, 'cloud': 7, 'feelslike_c': 34.3, 'feelslike_f': 93.7, 'windchill_c': 31.0, 'windchill_f': 87.8, 'heatindex_c': 34.3, 'heatindex_f': 93.7, 'dewpoint_c': 21.4, 'dewpoint_f': 70.5, 'will_it_rain': 0, 'chance_of_rain': '0', 'will_it_snow': 0, 'chance_of_snow': '0', 'vis_km': 10.0, 'vis_miles': 6.0, 'gust_mph': 10.3, 'gust_kph': 16.6, 'uv': 8.0}, {'time_epoch': 1624201200, 'time': '2021-06-20 10:00', 'temp_c': 32.7, 'temp_f': 90.9, 'is_day': 1, 'condition': {'text': 'Partly cloudy', 'icon': '//cdn.weatherapi.com/weather/64x64/day/116.png', 'code': 1003}, 'wind_mph': 9.8, 'wind_kph': 15.8, 'wind_degree': 106, 'wind_dir': 'ESE', 'pressure_mb': 1017.0, 'pressure_in': 30.5, 'precip_mm': 0.0, 'precip_in': 0.0, 'humidity': 50, 'cloud': 8, 'feelslike_c': 36.2, 'feelslike_f': 97.2, 'windchill_c': 32.7, 'windchill_f': 90.9, 'heatindex_c': 36.2, 'heatindex_f': 97.2, 'dewpoint_c': 20.9, 'dewpoint_f': 69.6, 'will_it_rain': 0, 'chance_of_rain': '0', 'will_it_snow': 0, 'chance_of_snow': '0', 'vis_km': 10.0, 'vis_miles': 6.0, 'gust_mph': 11.4, 'gust_kph': 18.4, 'uv': 8.0}, {'time_epoch': 1624204800, 'time': '2021-06-20 11:00', 'temp_c': 33.0, 'temp_f': 91.4, 'is_day': 1, 'condition': {'text': 'Partly cloudy', 'icon': '//cdn.weatherapi.com/weather/64x64/day/116.png', 'code': 1003}, 'wind_mph': 11.4, 'wind_kph': 18.4, 'wind_degree': 110, 'wind_dir': 'ESE', 'pressure_mb': 1017.0, 'pressure_in': 30.5, 'precip_mm': 0.0, 'precip_in': 0.0, 'humidity': 50, 'cloud': 8, 'feelslike_c': 36.8, 'feelslike_f': 98.2, 'windchill_c': 33.0, 'windchill_f': 91.4, 'heatindex_c': 36.8, 'heatindex_f': 98.2, 'dewpoint_c': 21.1, 'dewpoint_f': 70.0, 'will_it_rain': 0, 'chance_of_rain': '0', 'will_it_snow': 0, 'chance_of_snow': '0', 'vis_km': 10.0, 'vis_miles': 6.0, 'gust_mph': 13.2, 'gust_kph': 21.2, 'uv': 8.0}, {'time_epoch': 1624208400, 'time': '2021-06-20 12:00', 'temp_c': 33.4, 'temp_f': 92.1, 'is_day': 1, 'condition': {'text': 'Partly cloudy', 'icon': '//cdn.weatherapi.com/weather/64x64/day/116.png', 'code': 1003}, 'wind_mph': 13.2, 'wind_kph': 21.2, 'wind_degree': 114, 'wind_dir': 'ESE', 'pressure_mb': 1016.0, 'pressure_in': 30.5, 'precip_mm': 0.0, 'precip_in': 0.0, 'humidity': 50, 'cloud': 8, 'feelslike_c': 37.5, 'feelslike_f': 99.5, 'windchill_c': 33.4, 'windchill_f': 92.1, 'heatindex_c': 37.5, 'heatindex_f': 99.5, 'dewpoint_c': 21.4, 'dewpoint_f': 70.5, 'will_it_rain': 0, 'chance_of_rain': '0', 'will_it_snow': 0, 'chance_of_snow': '0', 'vis_km': 10.0, 'vis_miles': 6.0, 'gust_mph': 15.2, 'gust_kph': 24.5, 'uv': 8.0}, {'time_epoch': 1624212000, 'time': '2021-06-20 13:00', 'temp_c': 33.7, 'temp_f': 92.7, 'is_day': 1, 'condition': {'text': 'Partly cloudy', 'icon': '//cdn.weatherapi.com/weather/64x64/day/116.png', 'code': 1003}, 'wind_mph': 14.8, 'wind_kph': 23.8, 'wind_degree': 118, 'wind_dir': 'ESE', 'pressure_mb': 1015.0, 'pressure_in': 30.5, 'precip_mm': 0.0, 'precip_in': 0.0, 'humidity': 49, 'cloud': 9, 'feelslike_c': 38.1, 'feelslike_f': 100.6, 'windchill_c': 33.7, 'windchill_f': 92.7, 'heatindex_c': 38.1, 'heatindex_f': 100.6, 'dewpoint_c': 21.6, 'dewpoint_f': 70.9, 'will_it_rain': 0, 'chance_of_rain': '0', 'will_it_snow': 0, 'chance_of_snow': '0', 'vis_km': 10.0, 'vis_miles': 6.0, 'gust_mph': 17.0, 'gust_kph': 27.4, 'uv': 8.0}, {'time_epoch': 1624215600, 'time': '2021-06-20 14:00', 'temp_c': 33.1, 'temp_f': 91.6, 'is_day': 1, 'condition': {'text': 'Partly cloudy', 'icon': '//cdn.weatherapi.com/weather/64x64/day/116.png', 'code': 1003}, 'wind_mph': 14.8, 'wind_kph': 23.8, 'wind_degree': 115, 'wind_dir': 'ESE', 'pressure_mb': 1015.0, 'pressure_in': 30.4, 'precip_mm': 0.0, 'precip_in': 0.0, 'humidity': 51, 'cloud': 8, 'feelslike_c': 37.3, 'feelslike_f': 99.1, 'windchill_c': 33.1, 'windchill_f': 91.6, 'heatindex_c': 37.3, 'heatindex_f': 99.1, 'dewpoint_c': 21.6, 'dewpoint_f': 70.9, 'will_it_rain': 0, 'chance_of_rain': '0', 'will_it_snow': 0, 'chance_of_snow': '0', 'vis_km': 10.0, 'vis_miles': 6.0, 'gust_mph': 17.0, 'gust_kph': 27.4, 'uv': 8.0}, {'time_epoch': 1624219200, 'time': '2021-06-20 15:00', 'temp_c': 32.6, 'temp_f': 90.7, 'is_day': 1, 'condition': {'text': 'Partly cloudy', 'icon': '//cdn.weatherapi.com/weather/64x64/day/116.png', 'code': 1003}, 'wind_mph': 15.0, 'wind_kph': 24.1, 'wind_degree': 111, 'wind_dir': 'ESE', 'pressure_mb': 1015.0, 'pressure_in': 30.4, 'precip_mm': 0.0, 'precip_in': 0.0, 'humidity': 52, 'cloud': 8, 'feelslike_c': 36.6, 'feelslike_f': 97.9, 'windchill_c': 32.6, 'windchill_f': 90.7, 'heatindex_c': 36.6, 'heatindex_f': 97.9, 'dewpoint_c': 21.5, 'dewpoint_f': 70.7, 'will_it_rain': 0, 'chance_of_rain': '0', 'will_it_snow': 0, 'chance_of_snow': '0', 'vis_km': 10.0, 'vis_miles': 6.0, 'gust_mph': 17.2, 'gust_kph': 27.7, 'uv': 8.0}, {'time_epoch': 1624222800, 'time': '2021-06-20 16:00', 'temp_c': 32.0, 'temp_f': 89.6, 'is_day': 1, 'condition': {'text': 'Partly cloudy', 'icon': '//cdn.weatherapi.com/weather/64x64/day/116.png', 'code': 1003}, 'wind_mph': 15.0, 'wind_kph': 24.1, 'wind_degree': 108, 'wind_dir': 'ESE', 'pressure_mb': 1014.0, 'pressure_in': 30.4, 'precip_mm': 0.0, 'precip_in': 0.0, 'humidity': 54, 'cloud': 8, 'feelslike_c': 35.8, 'feelslike_f': 96.4, 'windchill_c': 32.0, 'windchill_f': 89.6, 'heatindex_c': 35.8, 'heatindex_f': 96.4, 'dewpoint_c': 21.5, 'dewpoint_f': 70.7, 'will_it_rain': 0, 'chance_of_rain': '0', 'will_it_snow': 0, 'chance_of_snow': '0', 'vis_km': 10.0, 'vis_miles': 6.0, 'gust_mph': 17.2, 'gust_kph': 27.7, 'uv': 8.0}, {'time_epoch': 1624226400, 'time': '2021-06-20 17:00', 'temp_c': 30.6, 'temp_f': 87.1, 'is_day': 1, 'condition': {'text': 'Partly cloudy', 'icon': '//cdn.weatherapi.com/weather/64x64/day/116.png', 'code': 1003}, 'wind_mph': 13.6, 'wind_kph': 22.0, 'wind_degree': 104, 'wind_dir': 'ESE', 'pressure_mb': 1015.0, 'pressure_in': 30.4, 'precip_mm': 0.0, 'precip_in': 0.0, 'humidity': 59, 'cloud': 7, 'feelslike_c': 34.0, 'feelslike_f': 93.2, 'windchill_c': 30.6, 'windchill_f': 87.1, 'heatindex_c': 34.0, 'heatindex_f': 93.2, 'dewpoint_c': 21.4, 'dewpoint_f': 70.5, 'will_it_rain': 0, 'chance_of_rain': '0', 'will_it_snow': 0, 'chance_of_snow': '0', 'vis_km': 10.0, 'vis_miles': 6.0, 'gust_mph': 16.6, 'gust_kph': 26.6, 'uv': 8.0}, {'time_epoch': 1624230000, 'time': '2021-06-20 18:00', 'temp_c': 29.2, 'temp_f': 84.6, 'is_day': 1, 'condition': {'text': 'Partly cloudy', 'icon': '//cdn.weatherapi.com/weather/64x64/day/116.png', 'code': 1003}, 'wind_mph': 12.1, 'wind_kph': 19.4, 'wind_degree': 100, 'wind_dir': 'E', 'pressure_mb': 1015.0, 'pressure_in': 30.5, 'precip_mm': 0.0, 'precip_in': 0.0, 'humidity': 63, 'cloud': 6, 'feelslike_c': 32.1, 'feelslike_f': 89.8, 'windchill_c': 29.2, 'windchill_f': 84.6, 'heatindex_c': 32.1, 'heatindex_f': 89.8, 'dewpoint_c': 21.4, 'dewpoint_f': 70.5, 'will_it_rain': 0, 'chance_of_rain': '0', 'will_it_snow': 0, 'chance_of_snow': '0', 'vis_km': 10.0, 'vis_miles': 6.0, 'gust_mph': 15.7, 'gust_kph': 25.2, 'uv': 7.0}, {'time_epoch': 1624233600, 'time': '2021-06-20 19:00', 'temp_c': 27.8, 'temp_f': 82.0, 'is_day': 0, 'condition': {'text': 'Partly cloudy', 'icon': '//cdn.weatherapi.com/weather/64x64/night/116.png', 'code': 1003}, 'wind_mph': 10.7, 'wind_kph': 17.3, 'wind_degree': 96, 'wind_dir': 'E', 'pressure_mb': 1016.0, 'pressure_in': 30.5, 'precip_mm': 0.0, 'precip_in': 0.0, 'humidity': 68, 'cloud': 6, 'feelslike_c': 30.3, 'feelslike_f': 86.5, 'windchill_c': 27.8, 'windchill_f': 82.0, 'heatindex_c': 30.3, 'heatindex_f': 86.5, 'dewpoint_c': 21.3, 'dewpoint_f': 70.3, 'will_it_rain': 0, 'chance_of_rain': '0', 'will_it_snow': 0, 'chance_of_snow': '0', 'vis_km': 10.0, 'vis_miles': 6.0, 'gust_mph': 15.0, 'gust_kph': 24.1, 'uv': 1.0}, {'time_epoch': 1624237200, 'time': '2021-06-20 20:00', 'temp_c': 27.2, 'temp_f': 81.0, 'is_day': 0, 'condition': {'text': 'Partly cloudy', 'icon': '//cdn.weatherapi.com/weather/64x64/night/116.png', 'code': 1003}, 'wind_mph': 9.6, 'wind_kph': 15.5, 'wind_degree': 89, 'wind_dir': 'E', 'pressure_mb': 1016.0, 'pressure_in': 30.5, 'precip_mm': 0.0, 'precip_in': 0.0, 'humidity': 70, 'cloud': 6, 'feelslike_c': 29.5, 'feelslike_f': 85.1, 'windchill_c': 27.2, 'windchill_f': 81.0, 'heatindex_c': 29.5, 'heatindex_f': 85.1, 'dewpoint_c': 21.2, 'dewpoint_f': 70.2, 'will_it_rain': 0, 'chance_of_rain': '0', 'will_it_snow': 0, 'chance_of_snow': '0', 'vis_km': 10.0, 'vis_miles': 6.0, 'gust_mph': 14.3, 'gust_kph': 23.0, 'uv': 1.0}, {'time_epoch': 1624240800, 'time': '2021-06-20 21:00', 'temp_c': 26.6, 'temp_f': 79.9, 'is_day': 0, 'condition': {'text': 'Partly cloudy', 'icon': '//cdn.weatherapi.com/weather/64x64/night/116.png', 'code': 1003}, 'wind_mph': 8.7, 'wind_kph': 14.0, 'wind_degree': 81, 'wind_dir': 'E', 'pressure_mb': 1017.0, 'pressure_in': 30.5, 'precip_mm': 0.0, 'precip_in': 0.0, 'humidity': 72, 'cloud': 6, 'feelslike_c': 28.8, 'feelslike_f': 83.8, 'windchill_c': 26.6, 'windchill_f': 79.9, 'heatindex_c': 28.8, 'heatindex_f': 83.8, 'dewpoint_c': 21.0, 'dewpoint_f': 69.8, 'will_it_rain': 0, 'chance_of_rain': '0', 'will_it_snow': 0, 'chance_of_snow': '0', 'vis_km': 10.0, 'vis_miles': 6.0, 'gust_mph': 13.6, 'gust_kph': 22.0, 'uv': 1.0}, {'time_epoch': 1624244400, 'time': '2021-06-20 22:00', 'temp_c': 26.0, 'temp_f': 78.8, 'is_day': 0, 'condition': {'text': 'Partly cloudy', 'icon': '//cdn.weatherapi.com/weather/64x64/night/116.png', 'code': 1003}, 'wind_mph': 7.6, 'wind_kph': 12.2, 'wind_degree': 74, 'wind_dir': 'ENE', 'pressure_mb': 1017.0, 'pressure_in': 30.5, 'precip_mm': 0.0, 'precip_in': 0.0, 'humidity': 73, 'cloud': 6, 'feelslike_c': 28.0, 'feelslike_f': 82.4, 'windchill_c': 26.0, 'windchill_f': 78.8, 'heatindex_c': 28.0, 'heatindex_f': 82.4, 'dewpoint_c': 20.9, 'dewpoint_f': 69.6, 'will_it_rain': 0, 'chance_of_rain': '0', 'will_it_snow': 0, 'chance_of_snow': '0', 'vis_km': 10.0, 'vis_miles': 6.0, 'gust_mph': 13.0, 'gust_kph': 20.9, 'uv': 1.0}, {'time_epoch': 1624248000, 'time': '2021-06-20 23:00', 'temp_c': 26.0, 'temp_f': 78.8, 'is_day': 0, 'condition': {'text': 'Partly cloudy', 'icon': '//cdn.weatherapi.com/weather/64x64/night/116.png', 'code': 1003}, 'wind_mph': 7.4, 'wind_kph': 11.9, 'wind_degree': 71, 'wind_dir': 'ENE', 'pressure_mb': 1017.0, 'pressure_in': 30.5, 'precip_mm': 0.0, 'precip_in': 0.0, 'humidity': 74, 'cloud': 6, 'feelslike_c': 28.0, 'feelslike_f': 82.4, 'windchill_c': 26.0, 'windchill_f': 78.8, 'heatindex_c': 28.0, 'heatindex_f': 82.4, 'dewpoint_c': 21.0, 'dewpoint_f': 69.8, 'will_it_rain': 0, 'chance_of_rain': '0', 'will_it_snow': 0, 'chance_of_snow': '0', 'vis_km': 10.0, 'vis_miles': 6.0, 'gust_mph': 12.1, 'gust_kph': 19.4, 'uv': 1.0}]}, {'date': '2021-06-21', 'date_epoch': 1624233600, 'day': {'maxtemp_c': 33.0, 'maxtemp_f': 91.4, 'mintemp_c': 25.5, 'mintemp_f': 77.9, 'avgtemp_c': 28.7, 'avgtemp_f': 83.7, 'maxwind_mph': 15.9, 'maxwind_kph': 25.6, 'totalprecip_mm': 0.5, 'totalprecip_in': 0.02, 'avgvis_km': 10.0, 'avgvis_miles': 6.0, 'avghumidity': 66.0, 'daily_will_it_rain': 1, 'daily_chance_of_rain': '82', 'daily_will_it_snow': 0, 'daily_chance_of_snow': '0', 'condition': {'text': 'Patchy rain possible', 'icon': '//cdn.weatherapi.com/weather/64x64/day/176.png', 'code': 1063}, 'uv': 11.0}, 'astro': {'sunrise': '05:33 AM', 'sunset': '06:45 PM', 'moonrise': '03:40 PM', 'moonset': '02:31 AM', 'moon_phase': 'Full Moon', 'moon_illumination': '83'}, 'hour': [{'time_epoch': 1624251600, 'time': '2021-06-21 00:00', 'temp_c': 25.9, 'temp_f': 78.6, 'is_day': 0, 'condition': {'text': 'Partly cloudy', 'icon': '//cdn.weatherapi.com/weather/64x64/night/116.png', 'code': 1003}, 'wind_mph': 6.9, 'wind_kph': 11.2, 'wind_degree': 68, 'wind_dir': 'ENE', 'pressure_mb': 1016.0, 'pressure_in': 30.5, 'precip_mm': 0.0, 'precip_in': 0.0, 'humidity': 75, 'cloud': 7, 'feelslike_c': 28.1, 'feelslike_f': 82.6, 'windchill_c': 25.9, 'windchill_f': 78.6, 'heatindex_c': 28.1, 'heatindex_f': 82.6, 'dewpoint_c': 21.2, 'dewpoint_f': 70.2, 'will_it_rain': 0, 'chance_of_rain': '0', 'will_it_snow': 0, 'chance_of_snow': '0', 'vis_km': 10.0, 'vis_miles': 6.0, 'gust_mph': 11.2, 'gust_kph': 18.0, 'uv': 1.0}, {'time_epoch': 1624255200, 'time': '2021-06-21 01:00', 'temp_c': 25.9, 'temp_f': 78.6, 'is_day': 0, 'condition': {'text': 'Partly cloudy', 'icon': '//cdn.weatherapi.com/weather/64x64/night/116.png', 'code': 1003}, 'wind_mph': 6.7, 'wind_kph': 10.8, 'wind_degree': 65, 'wind_dir': 'ENE', 'pressure_mb': 1016.0, 'pressure_in': 30.5, 'precip_mm': 0.0, 'precip_in': 0.0, 'humidity': 76, 'cloud': 8, 'feelslike_c': 28.1, 'feelslike_f': 82.6, 'windchill_c': 25.9, 'windchill_f': 78.6, 'heatindex_c': 28.1, 'heatindex_f': 82.6, 'dewpoint_c': 21.3, 'dewpoint_f': 70.3, 'will_it_rain': 0, 'chance_of_rain': '0', 'will_it_snow': 0, 'chance_of_snow': '0', 'vis_km': 10.0, 'vis_miles': 6.0, 'gust_mph': 10.3, 'gust_kph': 16.6, 'uv': 1.0}, {'time_epoch': 1624258800, 'time': '2021-06-21 02:00', 'temp_c': 25.8, 'temp_f': 78.4, 'is_day': 0, 'condition': {'text': 'Partly cloudy', 'icon': '//cdn.weatherapi.com/weather/64x64/night/116.png', 'code': 1003}, 'wind_mph': 6.7, 'wind_kph': 10.8, 'wind_degree': 62, 'wind_dir': 'ENE', 'pressure_mb': 1016.0, 'pressure_in': 30.5, 'precip_mm': 0.0, 'precip_in': 0.0, 'humidity': 76, 'cloud': 8, 'feelslike_c': 27.9, 'feelslike_f': 82.2, 'windchill_c': 25.8, 'windchill_f': 78.4, 'heatindex_c': 27.9, 'heatindex_f': 82.2, 'dewpoint_c': 21.3, 'dewpoint_f': 70.3, 'will_it_rain': 0, 'chance_of_rain': '0', 'will_it_snow': 0, 'chance_of_snow': '0', 'vis_km': 10.0, 'vis_miles': 6.0, 'gust_mph': 10.3, 'gust_kph': 16.6, 'uv': 1.0}, {'time_epoch': 1624262400, 'time': '2021-06-21 03:00', 'temp_c': 25.6, 'temp_f': 78.1, 'is_day': 0, 'condition': {'text': 'Partly cloudy', 'icon': '//cdn.weatherapi.com/weather/64x64/night/116.png', 'code': 1003}, 'wind_mph': 6.7, 'wind_kph': 10.8, 'wind_degree': 60, 'wind_dir': 'ENE', 'pressure_mb': 1016.0, 'pressure_in': 30.5, 'precip_mm': 0.0, 'precip_in': 0.0, 'humidity': 77, 'cloud': 8, 'feelslike_c': 27.8, 'feelslike_f': 82.0, 'windchill_c': 25.6, 'windchill_f': 78.1, 'heatindex_c': 27.8, 'heatindex_f': 82.0, 'dewpoint_c': 21.2, 'dewpoint_f': 70.2, 'will_it_rain': 0, 'chance_of_rain': '0', 'will_it_snow': 0, 'chance_of_snow': '0', 'vis_km': 10.0, 'vis_miles': 6.0, 'gust_mph': 10.5, 'gust_kph': 16.9, 'uv': 1.0}, {'time_epoch': 1624266000, 'time': '2021-06-21 04:00', 'temp_c': 25.5, 'temp_f': 77.9, 'is_day': 0, 'condition': {'text': 'Partly cloudy', 'icon': '//cdn.weatherapi.com/weather/64x64/night/116.png', 'code': 1003}, 'wind_mph': 6.7, 'wind_kph': 10.8, 'wind_degree': 57, 'wind_dir': 'ENE', 'pressure_mb': 1016.0, 'pressure_in': 30.5, 'precip_mm': 0.0, 'precip_in': 0.0, 'humidity': 77, 'cloud': 9, 'feelslike_c': 27.6, 'feelslike_f': 81.7, 'windchill_c': 25.5, 'windchill_f': 77.9, 'heatindex_c': 27.6, 'heatindex_f': 81.7, 'dewpoint_c': 21.2, 'dewpoint_f': 70.2, 'will_it_rain': 0, 'chance_of_rain': '0', 'will_it_snow': 0, 'chance_of_snow': '0', 'vis_km': 10.0, 'vis_miles': 6.0, 'gust_mph': 10.5, 'gust_kph': 16.9, 'uv': 1.0}, {'time_epoch': 1624269600, 'time': '2021-06-21 05:00', 'temp_c': 26.3, 'temp_f': 79.3, 'is_day': 0, 'condition': {'text': 'Partly cloudy', 'icon': '//cdn.weatherapi.com/weather/64x64/night/116.png', 'code': 1003}, 'wind_mph': 6.5, 'wind_kph': 10.4, 'wind_degree': 59, 'wind_dir': 'ENE', 'pressure_mb': 1016.0, 'pressure_in': 30.5, 'precip_mm': 0.0, 'precip_in': 0.0, 'humidity': 74, 'cloud': 8, 'feelslike_c': 28.5, 'feelslike_f': 83.3, 'windchill_c': 26.3, 'windchill_f': 79.3, 'heatindex_c': 28.5, 'heatindex_f': 83.3, 'dewpoint_c': 21.3, 'dewpoint_f': 70.3, 'will_it_rain': 0, 'chance_of_rain': '0', 'will_it_snow': 0, 'chance_of_snow': '0', 'vis_km': 10.0, 'vis_miles': 6.0, 'gust_mph': 9.4, 'gust_kph': 15.1, 'uv': 1.0}, {'time_epoch': 1624273200, 'time': '2021-06-21 06:00', 'temp_c': 27.1, 'temp_f': 80.8, 'is_day': 1, 'condition': {'text': 'Partly cloudy', 'icon': '//cdn.weatherapi.com/weather/64x64/day/116.png', 'code': 1003}, 'wind_mph': 6.3, 'wind_kph': 10.1, 'wind_degree': 62, 'wind_dir': 'ENE', 'pressure_mb': 1016.0, 'pressure_in': 30.5, 'precip_mm': 0.0, 'precip_in': 0.0, 'humidity': 71, 'cloud': 8, 'feelslike_c': 29.5, 'feelslike_f': 85.1, 'windchill_c': 27.1, 'windchill_f': 80.8, 'heatindex_c': 29.5, 'heatindex_f': 85.1, 'dewpoint_c': 21.3, 'dewpoint_f': 70.3, 'will_it_rain': 0, 'chance_of_rain': '0', 'will_it_snow': 0, 'chance_of_snow': '0', 'vis_km': 10.0, 'vis_miles': 6.0, 'gust_mph': 8.1, 'gust_kph': 13.0, 'uv': 7.0}, {'time_epoch': 1624276800, 'time': '2021-06-21 07:00', 'temp_c': 27.9, 'temp_f': 82.2, 'is_day': 1, 'condition': {'text': 'Partly cloudy', 'icon': '//cdn.weatherapi.com/weather/64x64/day/116.png', 'code': 1003}, 'wind_mph': 6.0, 'wind_kph': 9.7, 'wind_degree': 64, 'wind_dir': 'ENE', 'pressure_mb': 1017.0, 'pressure_in': 30.5, 'precip_mm': 0.0, 'precip_in': 0.0, 'humidity': 68, 'cloud': 7, 'feelslike_c': 30.4, 'feelslike_f': 86.7, 'windchill_c': 27.9, 'windchill_f': 82.2, 'heatindex_c': 30.4, 'heatindex_f': 86.7, 'dewpoint_c': 21.4, 'dewpoint_f': 70.5, 'will_it_rain': 0, 'chance_of_rain': '0', 'will_it_snow': 0, 'chance_of_snow': '0', 'vis_km': 10.0, 'vis_miles': 6.0, 'gust_mph': 6.9, 'gust_kph': 11.2, 'uv': 7.0}, {'time_epoch': 1624280400, 'time': '2021-06-21 08:00', 'temp_c': 29.5, 'temp_f': 85.1, 'is_day': 1, 'condition': {'text': 'Partly cloudy', 'icon': '//cdn.weatherapi.com/weather/64x64/day/116.png', 'code': 1003}, 'wind_mph': 7.8, 'wind_kph': 12.6, 'wind_degree': 78, 'wind_dir': 'ENE', 'pressure_mb': 1017.0, 'pressure_in': 30.5, 'precip_mm': 0.0, 'precip_in': 0.0, 'humidity': 62, 'cloud': 10, 'feelslike_c': 32.4, 'feelslike_f': 90.3, 'windchill_c': 29.5, 'windchill_f': 85.1, 'heatindex_c': 32.4, 'heatindex_f': 90.3, 'dewpoint_c': 21.4, 'dewpoint_f': 70.5, 'will_it_rain': 0, 'chance_of_rain': '0', 'will_it_snow': 0, 'chance_of_snow': '0', 'vis_km': 10.0, 'vis_miles': 6.0, 'gust_mph': 8.9, 'gust_kph': 14.4, 'uv': 7.0}, {'time_epoch': 1624284000, 'time': '2021-06-21 09:00', 'temp_c': 31.0, 'temp_f': 87.8, 'is_day': 1, 'condition': {'text': 'Partly cloudy', 'icon': '//cdn.weatherapi.com/weather/64x64/day/116.png', 'code': 1003}, 'wind_mph': 9.4, 'wind_kph': 15.1, 'wind_degree': 91, 'wind_dir': 'E', 'pressure_mb': 1017.0, 'pressure_in': 30.5, 'precip_mm': 0.0, 'precip_in': 0.0, 'humidity': 57, 'cloud': 13, 'feelslike_c': 34.4, 'feelslike_f': 93.9, 'windchill_c': 31.0, 'windchill_f': 87.8, 'heatindex_c': 34.4, 'heatindex_f': 93.9, 'dewpoint_c': 21.3, 'dewpoint_f': 70.3, 'will_it_rain': 0, 'chance_of_rain': '0', 'will_it_snow': 0, 'chance_of_snow': '0', 'vis_km': 10.0, 'vis_miles': 6.0, 'gust_mph': 11.0, 'gust_kph': 17.6, 'uv': 8.0}, {'time_epoch': 1624287600, 'time': '2021-06-21 10:00', 'temp_c': 32.6, 'temp_f': 90.7, 'is_day': 1, 'condition': {'text': 'Partly cloudy', 'icon': '//cdn.weatherapi.com/weather/64x64/day/116.png', 'code': 1003}, 'wind_mph': 11.2, 'wind_kph': 18.0, 'wind_degree': 105, 'wind_dir': 'ESE', 'pressure_mb': 1017.0, 'pressure_in': 30.5, 'precip_mm': 0.0, 'precip_in': 0.0, 'humidity': 52, 'cloud': 15, 'feelslike_c': 36.4, 'feelslike_f': 97.5, 'windchill_c': 32.6, 'windchill_f': 90.7, 'heatindex_c': 36.4, 'heatindex_f': 97.5, 'dewpoint_c': 21.3, 'dewpoint_f': 70.3, 'will_it_rain': 0, 'chance_of_rain': '0', 'will_it_snow': 0, 'chance_of_snow': '0', 'vis_km': 10.0, 'vis_miles': 6.0, 'gust_mph': 13.0, 'gust_kph': 20.9, 'uv': 8.0}, {'time_epoch': 1624291200, 'time': '2021-06-21 11:00', 'temp_c': 32.7, 'temp_f': 90.9, 'is_day': 1, 'condition': {'text': 'Partly cloudy', 'icon': '//cdn.weatherapi.com/weather/64x64/day/116.png', 'code': 1003}, 'wind_mph': 12.8, 'wind_kph': 20.5, 'wind_degree': 108, 'wind_dir': 'ESE', 'pressure_mb': 1016.0, 'pressure_in': 30.5, 'precip_mm': 0.0, 'precip_in': 0.0, 'humidity': 51, 'cloud': 14, 'feelslike_c': 36.6, 'feelslike_f': 97.9, 'windchill_c': 32.7, 'windchill_f': 90.9, 'heatindex_c': 36.6, 'heatindex_f': 97.9, 'dewpoint_c': 21.3, 'dewpoint_f': 70.3, 'will_it_rain': 0, 'chance_of_rain': '0', 'will_it_snow': 0, 'chance_of_snow': '0', 'vis_km': 10.0, 'vis_miles': 6.0, 'gust_mph': 14.8, 'gust_kph': 23.8, 'uv': 8.0}, {'time_epoch': 1624294800, 'time': '2021-06-21 12:00', 'temp_c': 32.9, 'temp_f': 91.2, 'is_day': 1, 'condition': {'text': 'Partly cloudy', 'icon': '//cdn.weatherapi.com/weather/64x64/day/116.png', 'code': 1003}, 'wind_mph': 14.3, 'wind_kph': 23.0, 'wind_degree': 112, 'wind_dir': 'ESE', 'pressure_mb': 1016.0, 'pressure_in': 30.5, 'precip_mm': 0.0, 'precip_in': 0.0, 'humidity': 51, 'cloud': 12, 'feelslike_c': 36.8, 'feelslike_f': 98.2, 'windchill_c': 32.9, 'windchill_f': 91.2, 'heatindex_c': 36.8, 'heatindex_f': 98.2, 'dewpoint_c': 21.4, 'dewpoint_f': 70.5, 'will_it_rain': 0, 'chance_of_rain': '0', 'will_it_snow': 0, 'chance_of_snow': '0', 'vis_km': 10.0, 'vis_miles': 6.0, 'gust_mph': 16.6, 'gust_kph': 26.6, 'uv': 8.0}, {'time_epoch': 1624298400, 'time': '2021-06-21 13:00', 'temp_c': 33.0, 'temp_f': 91.4, 'is_day': 1, 'condition': {'text': 'Partly cloudy', 'icon': '//cdn.weatherapi.com/weather/64x64/day/116.png', 'code': 1003}, 'wind_mph': 15.9, 'wind_kph': 25.6, 'wind_degree': 115, 'wind_dir': 'ESE', 'pressure_mb': 1015.0, 'pressure_in': 30.5, 'precip_mm': 0.0, 'precip_in': 0.0, 'humidity': 51, 'cloud': 11, 'feelslike_c': 37.0, 'feelslike_f': 98.6, 'windchill_c': 33.0, 'windchill_f': 91.4, 'heatindex_c': 37.0, 'heatindex_f': 98.6, 'dewpoint_c': 21.4, 'dewpoint_f': 70.5, 'will_it_rain': 0, 'chance_of_rain': '0', 'will_it_snow': 0, 'chance_of_snow': '0', 'vis_km': 10.0, 'vis_miles': 6.0, 'gust_mph': 18.3, 'gust_kph': 29.5, 'uv': 8.0}, {'time_epoch': 1624302000, 'time': '2021-06-21 14:00', 'temp_c': 32.6, 'temp_f': 90.7, 'is_day': 1, 'condition': {'text': 'Partly cloudy', 'icon': '//cdn.weatherapi.com/weather/64x64/day/116.png', 'code': 1003}, 'wind_mph': 15.2, 'wind_kph': 24.5, 'wind_degree': 114, 'wind_dir': 'ESE', 'pressure_mb': 1014.0, 'pressure_in': 30.4, 'precip_mm': 0.0, 'precip_in': 0.0, 'humidity': 52, 'cloud': 10, 'feelslike_c': 36.5, 'feelslike_f': 97.7, 'windchill_c': 32.6, 'windchill_f': 90.7, 'heatindex_c': 36.5, 'heatindex_f': 97.7, 'dewpoint_c': 21.5, 'dewpoint_f': 70.7, 'will_it_rain': 0, 'chance_of_rain': '0', 'will_it_snow': 0, 'chance_of_snow': '0', 'vis_km': 10.0, 'vis_miles': 6.0, 'gust_mph': 17.4, 'gust_kph': 28.1, 'uv': 8.0}, {'time_epoch': 1624305600, 'time': '2021-06-21 15:00', 'temp_c': 32.2, 'temp_f': 90.0, 'is_day': 1, 'condition': {'text': 'Partly cloudy', 'icon': '//cdn.weatherapi.com/weather/64x64/day/116.png', 'code': 1003}, 'wind_mph': 14.5, 'wind_kph': 23.4, 'wind_degree': 113, 'wind_dir': 'ESE', 'pressure_mb': 1014.0, 'pressure_in': 30.4, 'precip_mm': 0.0, 'precip_in': 0.0, 'humidity': 54, 'cloud': 10, 'feelslike_c': 36.1, 'feelslike_f': 97.0, 'windchill_c': 32.2, 'windchill_f': 90.0, 'heatindex_c': 36.1, 'heatindex_f': 97.0, 'dewpoint_c': 21.5, 'dewpoint_f': 70.7, 'will_it_rain': 0, 'chance_of_rain': '0', 'will_it_snow': 0, 'chance_of_snow': '0', 'vis_km': 10.0, 'vis_miles': 6.0, 'gust_mph': 16.8, 'gust_kph': 27.0, 'uv': 8.0}, {'time_epoch': 1624309200, 'time': '2021-06-21 16:00', 'temp_c': 31.8, 'temp_f': 89.2, 'is_day': 1, 'condition': {'text': 'Partly cloudy', 'icon': '//cdn.weatherapi.com/weather/64x64/day/116.png', 'code': 1003}, 'wind_mph': 13.9, 'wind_kph': 22.3, 'wind_degree': 112, 'wind_dir': 'ESE', 'pressure_mb': 1013.0, 'pressure_in': 30.4, 'precip_mm': 0.0, 'precip_in': 0.0, 'humidity': 55, 'cloud': 10, 'feelslike_c': 35.6, 'feelslike_f': 96.1, 'windchill_c': 31.8, 'windchill_f': 89.2, 'heatindex_c': 35.6, 'heatindex_f': 96.1, 'dewpoint_c': 21.6, 'dewpoint_f': 70.9, 'will_it_rain': 0, 'chance_of_rain': '0', 'will_it_snow': 0, 'chance_of_snow': '0', 'vis_km': 10.0, 'vis_miles': 6.0, 'gust_mph': 15.9, 'gust_kph': 25.6, 'uv': 8.0}, {'time_epoch': 1624312800, 'time': '2021-06-21 17:00', 'temp_c': 30.4, 'temp_f': 86.7, 'is_day': 1, 'condition': {'text': 'Partly cloudy', 'icon': '//cdn.weatherapi.com/weather/64x64/day/116.png', 'code': 1003}, 'wind_mph': 12.8, 'wind_kph': 20.5, 'wind_degree': 109, 'wind_dir': 'ESE', 'pressure_mb': 1014.0, 'pressure_in': 30.4, 'precip_mm': 0.0, 'precip_in': 0.0, 'humidity': 60, 'cloud': 9, 'feelslike_c': 33.7, 'feelslike_f': 92.7, 'windchill_c': 30.4, 'windchill_f': 86.7, 'heatindex_c': 33.7, 'heatindex_f': 92.7, 'dewpoint_c': 21.6, 'dewpoint_f': 70.9, 'will_it_rain': 0, 'chance_of_rain': '0', 'will_it_snow': 0, 'chance_of_snow': '0', 'vis_km': 10.0, 'vis_miles': 6.0, 'gust_mph': 15.4, 'gust_kph': 24.8, 'uv': 8.0}, {'time_epoch': 1624316400, 'time': '2021-06-21 18:00', 'temp_c': 28.9, 'temp_f': 84.0, 'is_day': 1, 'condition': {'text': 'Partly cloudy', 'icon': '//cdn.weatherapi.com/weather/64x64/day/116.png', 'code': 1003}, 'wind_mph': 11.4, 'wind_kph': 18.4, 'wind_degree': 106, 'wind_dir': 'ESE', 'pressure_mb': 1014.0, 'pressure_in': 30.4, 'precip_mm': 0.0, 'precip_in': 0.0, 'humidity': 65, 'cloud': 9, 'feelslike_c': 31.9, 'feelslike_f': 89.4, 'windchill_c': 28.9, 'windchill_f': 84.0, 'heatindex_c': 31.9, 'heatindex_f': 89.4, 'dewpoint_c': 21.6, 'dewpoint_f': 70.9, 'will_it_rain': 0, 'chance_of_rain': '0', 'will_it_snow': 0, 'chance_of_snow': '0', 'vis_km': 10.0, 'vis_miles': 6.0, 'gust_mph': 15.2, 'gust_kph': 24.5, 'uv': 7.0}, {'time_epoch': 1624320000, 'time': '2021-06-21 19:00', 'temp_c': 27.5, 'temp_f': 81.5, 'is_day': 0, 'condition': {'text': 'Partly cloudy', 'icon': '//cdn.weatherapi.com/weather/64x64/night/116.png', 'code': 1003}, 'wind_mph': 10.3, 'wind_kph': 16.6, 'wind_degree': 103, 'wind_dir': 'ESE', 'pressure_mb': 1014.0, 'pressure_in': 30.4, 'precip_mm': 0.0, 'precip_in': 0.0, 'humidity': 70, 'cloud': 9, 'feelslike_c': 30.0, 'feelslike_f': 86.0, 'windchill_c': 27.5, 'windchill_f': 81.5, 'heatindex_c': 30.0, 'heatindex_f': 86.0, 'dewpoint_c': 21.6, 'dewpoint_f': 70.9, 'will_it_rain': 0, 'chance_of_rain': '0', 'will_it_snow': 0, 'chance_of_snow': '0', 'vis_km': 10.0, 'vis_miles': 6.0, 'gust_mph': 14.8, 'gust_kph': 23.8, 'uv': 1.0}, {'time_epoch': 1624323600, 'time': '2021-06-21 20:00', 'temp_c': 26.9, 'temp_f': 80.4, 'is_day': 0, 'condition': {'text': 'Moderate rain at times', 'icon': '//cdn.weatherapi.com/weather/64x64/night/299.png', 'code': 1186}, 'wind_mph': 9.2, 'wind_kph': 14.8, 'wind_degree': 94, 'wind_dir': 'E', 'pressure_mb': 1015.0, 'pressure_in': 30.5, 'precip_mm': 0.2, 'precip_in': 0.01, 'humidity': 72, 'cloud': 31, 'feelslike_c': 29.3, 'feelslike_f': 84.7, 'windchill_c': 26.9, 'windchill_f': 80.4, 'heatindex_c': 29.3, 'heatindex_f': 84.7, 'dewpoint_c': 21.5, 'dewpoint_f': 70.7, 'will_it_rain': 0, 'chance_of_rain': '27', 'will_it_snow': 0, 'chance_of_snow': '0', 'vis_km': 10.0, 'vis_miles': 6.0, 'gust_mph': 13.6, 'gust_kph': 22.0, 'uv': 1.0}, {'time_epoch': 1624327200, 'time': '2021-06-21 21:00', 'temp_c': 26.3, 'temp_f': 79.3, 'is_day': 0, 'condition': {'text': 'Partly cloudy', 'icon': '//cdn.weatherapi.com/weather/64x64/night/116.png', 'code': 1003}, 'wind_mph': 7.8, 'wind_kph': 12.6, 'wind_degree': 86, 'wind_dir': 'E', 'pressure_mb': 1016.0, 'pressure_in': 30.5, 'precip_mm': 0.3, 'precip_in': 0.01, 'humidity': 75, 'cloud': 54, 'feelslike_c': 28.5, 'feelslike_f': 83.3, 'windchill_c': 26.3, 'windchill_f': 79.3, 'heatindex_c': 28.5, 'heatindex_f': 83.3, 'dewpoint_c': 21.4, 'dewpoint_f': 70.5, 'will_it_rain': 0, 'chance_of_rain': '55', 'will_it_snow': 0, 'chance_of_snow': '0', 'vis_km': 10.0, 'vis_miles': 6.0, 'gust_mph': 12.3, 'gust_kph': 19.8, 'uv': 1.0}, {'time_epoch': 1624330800, 'time': '2021-06-21 22:00', 'temp_c': 25.7, 'temp_f': 78.3, 'is_day': 0, 'condition': {'text': 'Moderate rain at times', 'icon': '//cdn.weatherapi.com/weather/64x64/night/299.png', 'code': 1186}, 'wind_mph': 6.7, 'wind_kph': 10.8, 'wind_degree': 77, 'wind_dir': 'ENE', 'pressure_mb': 1017.0, 'pressure_in': 30.5, 'precip_mm': 0.5, 'precip_in': 0.02, 'humidity': 77, 'cloud': 77, 'feelslike_c': 27.8, 'feelslike_f': 82.0, 'windchill_c': 25.7, 'windchill_f': 78.3, 'heatindex_c': 27.8, 'heatindex_f': 82.0, 'dewpoint_c': 21.3, 'dewpoint_f': 70.3, 'will_it_rain': 1, 'chance_of_rain': '82', 'will_it_snow': 0, 'chance_of_snow': '0', 'vis_km': 10.0, 'vis_miles': 6.0, 'gust_mph': 11.2, 'gust_kph': 18.0, 'uv': 1.0}, {'time_epoch': 1624334400, 'time': '2021-06-21 23:00', 'temp_c': 25.6, 'temp_f': 78.1, 'is_day': 0, 'condition': {'text': 'Moderate rain at times', 'icon': '//cdn.weatherapi.com/weather/64x64/night/299.png', 'code': 1186}, 'wind_mph': 6.9, 'wind_kph': 11.2, 'wind_degree': 78, 'wind_dir': 'ENE', 'pressure_mb': 1016.0, 'pressure_in': 30.5, 'precip_mm': 0.5, 'precip_in': 0.02, 'humidity': 78, 'cloud': 76, 'feelslike_c': 27.7, 'feelslike_f': 81.9, 'windchill_c': 25.6, 'windchill_f': 78.1, 'heatindex_c': 27.7, 'heatindex_f': 81.9, 'dewpoint_c': 21.4, 'dewpoint_f': 70.5, 'will_it_rain': 1, 'chance_of_rain': '78', 'will_it_snow': 0, 'chance_of_snow': '0', 'vis_km': 10.0, 'vis_miles': 6.0, 'gust_mph': 11.2, 'gust_kph': 18.0, 'uv': 1.0}]}, {'date': '2021-06-22', 'date_epoch': 1624320000, 'day': {'maxtemp_c': 33.2, 'maxtemp_f': 91.8, 'mintemp_c': 25.1, 'mintemp_f': 77.2, 'avgtemp_c': 28.5, 'avgtemp_f': 83.3, 'maxwind_mph': 16.3, 'maxwind_kph': 26.3, 'totalprecip_mm': 0.6, 'totalprecip_in': 0.02, 'avgvis_km': 10.0, 'avgvis_miles': 6.0, 'avghumidity': 66.0, 'daily_will_it_rain': 0, 'daily_chance_of_rain': '70', 'daily_will_it_snow': 0, 'daily_chance_of_snow': '0', 'condition': {'text': 'Patchy rain possible', 'icon': '//cdn.weatherapi.com/weather/64x64/day/176.png', 'code': 1063}, 'uv': 11.0}, 'astro': {'sunrise': '05:33 AM', 'sunset': '06:45 PM', 'moonrise': '04:45 PM', 'moonset': '03:20 AM', 'moon_phase': 'Full Moon', 'moon_illumination': '90'}, 'hour': [{'time_epoch': 1624338000, 'time': '2021-06-22 00:00', 'temp_c': 25.4, 'temp_f': 77.7, 'is_day': 0, 'condition': {'text': 'Moderate rain at times', 'icon': '//cdn.weatherapi.com/weather/64x64/night/299.png', 'code': 1186}, 'wind_mph': 7.2, 'wind_kph': 11.5, 'wind_degree': 79, 'wind_dir': 'E', 'pressure_mb': 1016.0, 'pressure_in': 30.5, 'precip_mm': 0.6, 'precip_in': 0.02, 'humidity': 79, 'cloud': 75, 'feelslike_c': 27.6, 'feelslike_f': 81.7, 'windchill_c': 25.4, 'windchill_f': 77.7, 'heatindex_c': 27.6, 'heatindex_f': 81.7, 'dewpoint_c': 21.4, 'dewpoint_f': 70.5, 'will_it_rain': 1, 'chance_of_rain': '74', 'will_it_snow': 0, 'chance_of_snow': '0', 'vis_km': 10.0, 'vis_miles': 6.0, 'gust_mph': 11.4, 'gust_kph': 18.4, 'uv': 1.0}, {'time_epoch': 1624341600, 'time': '2021-06-22 01:00', 'temp_c': 25.3, 'temp_f': 77.5, 'is_day': 0, 'condition': {'text': 'Moderate rain at times', 'icon': '//cdn.weatherapi.com/weather/64x64/night/299.png', 'code': 1186}, 'wind_mph': 7.4, 'wind_kph': 11.9, 'wind_degree': 81, 'wind_dir': 'E', 'pressure_mb': 1016.0, 'pressure_in': 30.5, 'precip_mm': 0.6, 'precip_in': 0.02, 'humidity': 80, 'cloud': 74, 'feelslike_c': 27.5, 'feelslike_f': 81.5, 'windchill_c': 25.3, 'windchill_f': 77.5, 'heatindex_c': 27.5, 'heatindex_f': 81.5, 'dewpoint_c': 21.5, 'dewpoint_f': 70.7, 'will_it_rain': 0, 'chance_of_rain': '70', 'will_it_snow': 0, 'chance_of_snow': '0', 'vis_km': 10.0, 'vis_miles': 6.0, 'gust_mph': 11.4, 'gust_kph': 18.4, 'uv': 1.0}, {'time_epoch': 1624345200, 'time': '2021-06-22 02:00', 'temp_c': 25.2, 'temp_f': 77.4, 'is_day': 0, 'condition': {'text': 'Partly cloudy', 'icon': '//cdn.weatherapi.com/weather/64x64/night/116.png', 'code': 1003}, 'wind_mph': 7.2, 'wind_kph': 11.5, 'wind_degree': 78, 'wind_dir': 'ENE', 'pressure_mb': 1016.0, 'pressure_in': 30.5, 'precip_mm': 0.4, 'precip_in': 0.02, 'humidity': 80, 'cloud': 52, 'feelslike_c': 27.4, 'feelslike_f': 81.3, 'windchill_c': 25.2, 'windchill_f': 77.4, 'heatindex_c': 27.4, 'heatindex_f': 81.3, 'dewpoint_c': 21.6, 'dewpoint_f': 70.9, 'will_it_rain': 0, 'chance_of_rain': '47', 'will_it_snow': 0, 'chance_of_snow': '0', 'vis_km': 10.0, 'vis_miles': 6.0, 'gust_mph': 11.0, 'gust_kph': 17.6, 'uv': 1.0}, {'time_epoch': 1624348800, 'time': '2021-06-22 03:00', 'temp_c': 25.2, 'temp_f': 77.4, 'is_day': 0, 'condition': {'text': 'Moderate rain at times', 'icon': '//cdn.weatherapi.com/weather/64x64/night/299.png', 'code': 1186}, 'wind_mph': 6.9, 'wind_kph': 11.2, 'wind_degree': 75, 'wind_dir': 'ENE', 'pressure_mb': 1015.0, 'pressure_in': 30.5, 'precip_mm': 0.2, 'precip_in': 0.01, 'humidity': 81, 'cloud': 31, 'feelslike_c': 27.4, 'feelslike_f': 81.3, 'windchill_c': 25.2, 'windchill_f': 77.4, 'heatindex_c': 27.4, 'heatindex_f': 81.3, 'dewpoint_c': 21.6, 'dewpoint_f': 70.9, 'will_it_rain': 0, 'chance_of_rain': '23', 'will_it_snow': 0, 'chance_of_snow': '0', 'vis_km': 10.0, 'vis_miles': 6.0, 'gust_mph': 10.5, 'gust_kph': 16.9, 'uv': 1.0}, {'time_epoch': 1624352400, 'time': '2021-06-22 04:00', 'temp_c': 25.1, 'temp_f': 77.2, 'is_day': 0, 'condition': {'text': 'Partly cloudy', 'icon': '//cdn.weatherapi.com/weather/64x64/night/116.png', 'code': 1003}, 'wind_mph': 6.7, 'wind_kph': 10.8, 'wind_degree': 72, 'wind_dir': 'ENE', 'pressure_mb': 1015.0, 'pressure_in': 30.5, 'precip_mm': 0.0, 'precip_in': 0.0, 'humidity': 82, 'cloud': 9, 'feelslike_c': 27.3, 'feelslike_f': 81.1, 'windchill_c': 25.1, 'windchill_f': 77.2, 'heatindex_c': 27.3, 'heatindex_f': 81.1, 'dewpoint_c': 21.7, 'dewpoint_f': 71.1, 'will_it_rain': 0, 'chance_of_rain': '0', 'will_it_snow': 0, 'chance_of_snow': '0', 'vis_km': 10.0, 'vis_miles': 6.0, 'gust_mph': 10.1, 'gust_kph': 16.2, 'uv': 1.0}, {'time_epoch': 1624356000, 'time': '2021-06-22 05:00', 'temp_c': 25.8, 'temp_f': 78.4, 'is_day': 0, 'condition': {'text': 'Partly cloudy', 'icon': '//cdn.weatherapi.com/weather/64x64/night/116.png', 'code': 1003}, 'wind_mph': 6.7, 'wind_kph': 10.8, 'wind_degree': 79, 'wind_dir': 'E', 'pressure_mb': 1015.0, 'pressure_in': 30.5, 'precip_mm': 0.0, 'precip_in': 0.0, 'humidity': 78, 'cloud': 10, 'feelslike_c': 28.2, 'feelslike_f': 82.8, 'windchill_c': 25.8, 'windchill_f': 78.4, 'heatindex_c': 28.2, 'heatindex_f': 82.8, 'dewpoint_c': 21.7, 'dewpoint_f': 71.1, 'will_it_rain': 0, 'chance_of_rain': '0', 'will_it_snow': 0, 'chance_of_snow': '0', 'vis_km': 10.0, 'vis_miles': 6.0, 'gust_mph': 9.4, 'gust_kph': 15.1, 'uv': 1.0}, {'time_epoch': 1624359600, 'time': '2021-06-22 06:00', 'temp_c': 26.6, 'temp_f': 79.9, 'is_day': 1, 'condition': {'text': 'Partly cloudy', 'icon': '//cdn.weatherapi.com/weather/64x64/day/116.png', 'code': 1003}, 'wind_mph': 6.9, 'wind_kph': 11.2, 'wind_degree': 86, 'wind_dir': 'E', 'pressure_mb': 1016.0, 'pressure_in': 30.5, 'precip_mm': 0.0, 'precip_in': 0.0, 'humidity': 75, 'cloud': 10, 'feelslike_c': 29.0, 'feelslike_f': 84.2, 'windchill_c': 26.6, 'windchill_f': 79.9, 'heatindex_c': 29.0, 'heatindex_f': 84.2, 'dewpoint_c': 21.8, 'dewpoint_f': 71.2, 'will_it_rain': 0, 'chance_of_rain': '0', 'will_it_snow': 0, 'chance_of_snow': '0', 'vis_km': 10.0, 'vis_miles': 6.0, 'gust_mph': 8.7, 'gust_kph': 14.0, 'uv': 7.0}, {'time_epoch': 1624363200, 'time': '2021-06-22 07:00', 'temp_c': 27.3, 'temp_f': 81.1, 'is_day': 1, 'condition': {'text': 'Partly cloudy', 'icon': '//cdn.weatherapi.com/weather/64x64/day/116.png', 'code': 1003}, 'wind_mph': 6.9, 'wind_kph': 11.2, 'wind_degree': 94, 'wind_dir': 'E', 'pressure_mb': 1016.0, 'pressure_in': 30.5, 'precip_mm': 0.0, 'precip_in': 0.0, 'humidity': 72, 'cloud': 11, 'feelslike_c': 29.9, 'feelslike_f': 85.8, 'windchill_c': 27.3, 'windchill_f': 81.1, 'heatindex_c': 29.9, 'heatindex_f': 85.8, 'dewpoint_c': 21.8, 'dewpoint_f': 71.2, 'will_it_rain': 0, 'chance_of_rain': '0', 'will_it_snow': 0, 'chance_of_snow': '0', 'vis_km': 10.0, 'vis_miles': 6.0, 'gust_mph': 8.1, 'gust_kph': 13.0, 'uv': 7.0}, {'time_epoch': 1624366800, 'time': '2021-06-22 08:00', 'temp_c': 29.0, 'temp_f': 84.2, 'is_day': 1, 'condition': {'text': 'Partly cloudy', 'icon': '//cdn.weatherapi.com/weather/64x64/day/116.png', 'code': 1003}, 'wind_mph': 8.5, 'wind_kph': 13.7, 'wind_degree': 97, 'wind_dir': 'E', 'pressure_mb': 1016.0, 'pressure_in': 30.5, 'precip_mm': 0.0, 'precip_in': 0.0, 'humidity': 64, 'cloud': 9, 'feelslike_c': 31.6, 'feelslike_f': 88.9, 'windchill_c': 29.0, 'windchill_f': 84.2, 'heatindex_c': 31.6, 'heatindex_f': 88.9, 'dewpoint_c': 21.2, 'dewpoint_f': 70.2, 'will_it_rain': 0, 'chance_of_rain': '0', 'will_it_snow': 0, 'chance_of_snow': '0', 'vis_km': 10.0, 'vis_miles': 6.0, 'gust_mph': 9.8, 'gust_kph': 15.8, 'uv': 7.0}, {'time_epoch': 1624370400, 'time': '2021-06-22 09:00', 'temp_c': 30.6, 'temp_f': 87.1, 'is_day': 1, 'condition': {'text': 'Partly cloudy', 'icon': '//cdn.weatherapi.com/weather/64x64/day/116.png', 'code': 1003}, 'wind_mph': 10.1, 'wind_kph': 16.2, 'wind_degree': 101, 'wind_dir': 'ESE', 'pressure_mb': 1016.0, 'pressure_in': 30.5, 'precip_mm': 0.0, 'precip_in': 0.0, 'humidity': 56, 'cloud': 8, 'feelslike_c': 33.3, 'feelslike_f': 91.9, 'windchill_c': 30.6, 'windchill_f': 87.1, 'heatindex_c': 33.3, 'heatindex_f': 91.9, 'dewpoint_c': 20.5, 'dewpoint_f': 68.9, 'will_it_rain': 0, 'chance_of_rain': '0', 'will_it_snow': 0, 'chance_of_snow': '0', 'vis_km': 10.0, 'vis_miles': 6.0, 'gust_mph': 11.6, 'gust_kph': 18.7, 'uv': 8.0}, {'time_epoch': 1624374000, 'time': '2021-06-22 10:00', 'temp_c': 32.3, 'temp_f': 90.1, 'is_day': 1, 'condition': {'text': 'Partly cloudy', 'icon': '//cdn.weatherapi.com/weather/64x64/day/116.png', 'code': 1003}, 'wind_mph': 11.6, 'wind_kph': 18.7, 'wind_degree': 104, 'wind_dir': 'ESE', 'pressure_mb': 1016.0, 'pressure_in': 30.5, 'precip_mm': 0.0, 'precip_in': 0.0, 'humidity': 48, 'cloud': 6, 'feelslike_c': 35.0, 'feelslike_f': 95.0, 'windchill_c': 32.3, 'windchill_f': 90.1, 'heatindex_c': 35.0, 'heatindex_f': 95.0, 'dewpoint_c': 19.9, 'dewpoint_f': 67.8, 'will_it_rain': 0, 'chance_of_rain': '0', 'will_it_snow': 0, 'chance_of_snow': '0', 'vis_km': 10.0, 'vis_miles': 6.0, 'gust_mph': 13.4, 'gust_kph': 21.6, 'uv': 8.0}, {'time_epoch': 1624377600, 'time': '2021-06-22 11:00', 'temp_c': 32.6, 'temp_f': 90.7, 'is_day': 1, 'condition': {'text': 'Partly cloudy', 'icon': '//cdn.weatherapi.com/weather/64x64/day/116.png', 'code': 1003}, 'wind_mph': 13.2, 'wind_kph': 21.2, 'wind_degree': 107, 'wind_dir': 'ESE', 'pressure_mb': 1016.0, 'pressure_in': 30.5, 'precip_mm': 0.0, 'precip_in': 0.0, 'humidity': 47, 'cloud': 6, 'feelslike_c': 35.3, 'feelslike_f': 95.5, 'windchill_c': 32.6, 'windchill_f': 90.7, 'heatindex_c': 35.3, 'heatindex_f': 95.5, 'dewpoint_c': 19.8, 'dewpoint_f': 67.6, 'will_it_rain': 0, 'chance_of_rain': '0', 'will_it_snow': 0, 'chance_of_snow': '0', 'vis_km': 10.0, 'vis_miles': 6.0, 'gust_mph': 15.2, 'gust_kph': 24.5, 'uv': 8.0}, {'time_epoch': 1624381200, 'time': '2021-06-22 12:00', 'temp_c': 32.9, 'temp_f': 91.2, 'is_day': 1, 'condition': {'text': 'Partly cloudy', 'icon': '//cdn.weatherapi.com/weather/64x64/day/116.png', 'code': 1003}, 'wind_mph': 14.8, 'wind_kph': 23.8, 'wind_degree': 110, 'wind_dir': 'ESE', 'pressure_mb': 1015.0, 'pressure_in': 30.5, 'precip_mm': 0.0, 'precip_in': 0.0, 'humidity': 46, 'cloud': 6, 'feelslike_c': 35.7, 'feelslike_f': 96.3, 'windchill_c': 32.9, 'windchill_f': 91.2, 'heatindex_c': 35.7, 'heatindex_f': 96.3, 'dewpoint_c': 19.8, 'dewpoint_f': 67.6, 'will_it_rain': 0, 'chance_of_rain': '0', 'will_it_snow': 0, 'chance_of_snow': '0', 'vis_km': 10.0, 'vis_miles': 6.0, 'gust_mph': 17.0, 'gust_kph': 27.4, 'uv': 8.0}, {'time_epoch': 1624384800, 'time': '2021-06-22 13:00', 'temp_c': 33.2, 'temp_f': 91.8, 'is_day': 1, 'condition': {'text': 'Partly cloudy', 'icon': '//cdn.weatherapi.com/weather/64x64/day/116.png', 'code': 1003}, 'wind_mph': 16.3, 'wind_kph': 26.3, 'wind_degree': 113, 'wind_dir': 'ESE', 'pressure_mb': 1015.0, 'pressure_in': 30.4, 'precip_mm': 0.0, 'precip_in': 0.0, 'humidity': 45, 'cloud': 6, 'feelslike_c': 36.0, 'feelslike_f': 96.8, 'windchill_c': 33.2, 'windchill_f': 91.8, 'heatindex_c': 36.0, 'heatindex_f': 96.8, 'dewpoint_c': 19.7, 'dewpoint_f': 67.5, 'will_it_rain': 0, 'chance_of_rain': '0', 'will_it_snow': 0, 'chance_of_snow': '0', 'vis_km': 10.0, 'vis_miles': 6.0, 'gust_mph': 18.8, 'gust_kph': 30.2, 'uv': 8.0}, {'time_epoch': 1624388400, 'time': '2021-06-22 14:00', 'temp_c': 32.6, 'temp_f': 90.7, 'is_day': 1, 'condition': {'text': 'Partly cloudy', 'icon': '//cdn.weatherapi.com/weather/64x64/day/116.png', 'code': 1003}, 'wind_mph': 15.9, 'wind_kph': 25.6, 'wind_degree': 114, 'wind_dir': 'ESE', 'pressure_mb': 1014.0, 'pressure_in': 30.4, 'precip_mm': 0.0, 'precip_in': 0.0, 'humidity': 49, 'cloud': 7, 'feelslike_c': 35.7, 'feelslike_f': 96.3, 'windchill_c': 32.6, 'windchill_f': 90.7, 'heatindex_c': 35.7, 'heatindex_f': 96.3, 'dewpoint_c': 20.3, 'dewpoint_f': 68.5, 'will_it_rain': 0, 'chance_of_rain': '0', 'will_it_snow': 0, 'chance_of_snow': '0', 'vis_km': 10.0, 'vis_miles': 6.0, 'gust_mph': 18.3, 'gust_kph': 29.5, 'uv': 8.0}, {'time_epoch': 1624392000, 'time': '2021-06-22 15:00', 'temp_c': 32.0, 'temp_f': 89.6, 'is_day': 1, 'condition': {'text': 'Partly cloudy', 'icon': '//cdn.weatherapi.com/weather/64x64/day/116.png', 'code': 1003}, 'wind_mph': 15.7, 'wind_kph': 25.2, 'wind_degree': 115, 'wind_dir': 'ESE', 'pressure_mb': 1014.0, 'pressure_in': 30.4, 'precip_mm': 0.0, 'precip_in': 0.0, 'humidity': 53, 'cloud': 7, 'feelslike_c': 35.4, 'feelslike_f': 95.7, 'windchill_c': 32.0, 'windchill_f': 89.6, 'heatindex_c': 35.4, 'heatindex_f': 95.7, 'dewpoint_c': 21.0, 'dewpoint_f': 69.8, 'will_it_rain': 0, 'chance_of_rain': '0', 'will_it_snow': 0, 'chance_of_snow': '0', 'vis_km': 10.0, 'vis_miles': 6.0, 'gust_mph': 17.9, 'gust_kph': 28.8, 'uv': 8.0}, {'time_epoch': 1624395600, 'time': '2021-06-22 16:00', 'temp_c': 31.4, 'temp_f': 88.5, 'is_day': 1, 'condition': {'text': 'Partly cloudy', 'icon': '//cdn.weatherapi.com/weather/64x64/day/116.png', 'code': 1003}, 'wind_mph': 15.2, 'wind_kph': 24.5, 'wind_degree': 115, 'wind_dir': 'ESE', 'pressure_mb': 1013.0, 'pressure_in': 30.4, 'precip_mm': 0.0, 'precip_in': 0.0, 'humidity': 56, 'cloud': 7, 'feelslike_c': 35.1, 'feelslike_f': 95.2, 'windchill_c': 31.4, 'windchill_f': 88.5, 'heatindex_c': 35.1, 'heatindex_f': 95.2, 'dewpoint_c': 21.6, 'dewpoint_f': 70.9, 'will_it_rain': 0, 'chance_of_rain': '0', 'will_it_snow': 0, 'chance_of_snow': '0', 'vis_km': 10.0, 'vis_miles': 6.0, 'gust_mph': 17.4, 'gust_kph': 28.1, 'uv': 8.0}, {'time_epoch': 1624399200, 'time': '2021-06-22 17:00', 'temp_c': 30.1, 'temp_f': 86.2, 'is_day': 1, 'condition': {'text': 'Partly cloudy', 'icon': '//cdn.weatherapi.com/weather/64x64/day/116.png', 'code': 1003}, 'wind_mph': 13.4, 'wind_kph': 21.6, 'wind_degree': 108, 'wind_dir': 'ESE', 'pressure_mb': 1014.0, 'pressure_in': 30.4, 'precip_mm': 0.0, 'precip_in': 0.0, 'humidity': 61, 'cloud': 7, 'feelslike_c': 33.4, 'feelslike_f': 92.1, 'windchill_c': 30.1, 'windchill_f': 86.2, 'heatindex_c': 33.4, 'heatindex_f': 92.1, 'dewpoint_c': 21.6, 'dewpoint_f': 70.9, 'will_it_rain': 0, 'chance_of_rain': '0', 'will_it_snow': 0, 'chance_of_snow': '0', 'vis_km': 10.0, 'vis_miles': 6.0, 'gust_mph': 16.3, 'gust_kph': 26.3, 'uv': 8.0}, {'time_epoch': 1624402800, 'time': '2021-06-22 18:00', 'temp_c': 28.8, 'temp_f': 83.8, 'is_day': 1, 'condition': {'text': 'Partly cloudy', 'icon': '//cdn.weatherapi.com/weather/64x64/day/116.png', 'code': 1003}, 'wind_mph': 11.9, 'wind_kph': 19.1, 'wind_degree': 100, 'wind_dir': 'E', 'pressure_mb': 1015.0, 'pressure_in': 30.4, 'precip_mm': 0.0, 'precip_in': 0.0, 'humidity': 65, 'cloud': 7, 'feelslike_c': 31.7, 'feelslike_f': 89.1, 'windchill_c': 28.8, 'windchill_f': 83.8, 'heatindex_c': 31.7, 'heatindex_f': 89.1, 'dewpoint_c': 21.5, 'dewpoint_f': 70.7, 'will_it_rain': 0, 'chance_of_rain': '0', 'will_it_snow': 0, 'chance_of_snow': '0', 'vis_km': 10.0, 'vis_miles': 6.0, 'gust_mph': 15.4, 'gust_kph': 24.8, 'uv': 7.0}, {'time_epoch': 1624406400, 'time': '2021-06-22 19:00', 'temp_c': 27.5, 'temp_f': 81.5, 'is_day': 0, 'condition': {'text': 'Partly cloudy', 'icon': '//cdn.weatherapi.com/weather/64x64/night/116.png', 'code': 1003}, 'wind_mph': 10.1, 'wind_kph': 16.2, 'wind_degree': 93, 'wind_dir': 'E', 'pressure_mb': 1015.0, 'pressure_in': 30.5, 'precip_mm': 0.0, 'precip_in': 0.0, 'humidity': 70, 'cloud': 7, 'feelslike_c': 30.0, 'feelslike_f': 86.0, 'windchill_c': 27.5, 'windchill_f': 81.5, 'heatindex_c': 30.0, 'heatindex_f': 86.0, 'dewpoint_c': 21.5, 'dewpoint_f': 70.7, 'will_it_rain': 0, 'chance_of_rain': '0', 'will_it_snow': 0, 'chance_of_snow': '0', 'vis_km': 10.0, 'vis_miles': 6.0, 'gust_mph': 14.3, 'gust_kph': 23.0, 'uv': 1.0}, {'time_epoch': 1624410000, 'time': '2021-06-22 20:00', 'temp_c': 27.0, 'temp_f': 80.6, 'is_day': 0, 'condition': {'text': 'Partly cloudy', 'icon': '//cdn.weatherapi.com/weather/64x64/night/116.png', 'code': 1003}, 'wind_mph': 8.9, 'wind_kph': 14.4, 'wind_degree': 87, 'wind_dir': 'E', 'pressure_mb': 1016.0, 'pressure_in': 30.5, 'precip_mm': 0.0, 'precip_in': 0.0, 'humidity': 72, 'cloud': 7, 'feelslike_c': 29.4, 'feelslike_f': 84.9, 'windchill_c': 27.0, 'windchill_f': 80.6, 'heatindex_c': 29.4, 'heatindex_f': 84.9, 'dewpoint_c': 21.5, 'dewpoint_f': 70.7, 'will_it_rain': 0, 'chance_of_rain': '0', 'will_it_snow': 0, 'chance_of_snow': '0', 'vis_km': 10.0, 'vis_miles': 6.0, 'gust_mph': 12.8, 'gust_kph': 20.5, 'uv': 1.0}, {'time_epoch': 1624413600, 'time': '2021-06-22 21:00', 'temp_c': 26.5, 'temp_f': 79.7, 'is_day': 0, 'condition': {'text': 'Partly cloudy', 'icon': '//cdn.weatherapi.com/weather/64x64/night/116.png', 'code': 1003}, 'wind_mph': 7.6, 'wind_kph': 12.2, 'wind_degree': 81, 'wind_dir': 'E', 'pressure_mb': 1016.0, 'pressure_in': 30.5, 'precip_mm': 0.0, 'precip_in': 0.0, 'humidity': 74, 'cloud': 7, 'feelslike_c': 28.8, 'feelslike_f': 83.8, 'windchill_c': 26.5, 'windchill_f': 79.7, 'heatindex_c': 28.8, 'heatindex_f': 83.8, 'dewpoint_c': 21.4, 'dewpoint_f': 70.5, 'will_it_rain': 0, 'chance_of_rain': '0', 'will_it_snow': 0, 'chance_of_snow': '0', 'vis_km': 10.0, 'vis_miles': 6.0, 'gust_mph': 11.4, 'gust_kph': 18.4, 'uv': 1.0}, {'time_epoch': 1624417200, 'time': '2021-06-22 22:00', 'temp_c': 26.0, 'temp_f': 78.8, 'is_day': 0, 'condition': {'text': 'Partly cloudy', 'icon': '//cdn.weatherapi.com/weather/64x64/night/116.png', 'code': 1003}, 'wind_mph': 6.5, 'wind_kph': 10.4, 'wind_degree': 75, 'wind_dir': 'ENE', 'pressure_mb': 1017.0, 'pressure_in': 30.5, 'precip_mm': 0.0, 'precip_in': 0.0, 'humidity': 76, 'cloud': 7, 'feelslike_c': 28.2, 'feelslike_f': 82.8, 'windchill_c': 26.0, 'windchill_f': 78.8, 'heatindex_c': 28.2, 'heatindex_f': 82.8, 'dewpoint_c': 21.4, 'dewpoint_f': 70.5, 'will_it_rain': 0, 'chance_of_rain': '0', 'will_it_snow': 0, 'chance_of_snow': '0', 'vis_km': 10.0, 'vis_miles': 6.0, 'gust_mph': 9.8, 'gust_kph': 15.8, 'uv': 1.0}, {'time_epoch': 1624420800, 'time': '2021-06-22 23:00', 'temp_c': 25.9, 'temp_f': 78.6, 'is_day': 0, 'condition': {'text': 'Partly cloudy', 'icon': '//cdn.weatherapi.com/weather/64x64/night/116.png', 'code': 1003}, 'wind_mph': 6.3, 'wind_kph': 10.1, 'wind_degree': 75, 'wind_dir': 'ENE', 'pressure_mb': 1016.0, 'pressure_in': 30.5, 'precip_mm': 0.0, 'precip_in': 0.0, 'humidity': 76, 'cloud': 7, 'feelslike_c': 28.1, 'feelslike_f': 82.6, 'windchill_c': 25.9, 'windchill_f': 78.6, 'heatindex_c': 28.1, 'heatindex_f': 82.6, 'dewpoint_c': 21.4, 'dewpoint_f': 70.5, 'will_it_rain': 0, 'chance_of_rain': '0', 'will_it_snow': 0, 'chance_of_snow': '0', 'vis_km': 10.0, 'vis_miles': 6.0, 'gust_mph': 9.2, 'gust_kph': 14.8, 'uv': 1.0}]}]\n"
     ]
    }
   ],
   "source": [
    "print(ja_week['forecast']['forecastday'])"
   ]
  },
  {
   "cell_type": "code",
   "execution_count": 71,
   "metadata": {},
   "outputs": [],
   "source": [
    "f = ja_week['forecast']['forecastday']"
   ]
  },
  {
   "cell_type": "code",
   "execution_count": 97,
   "metadata": {},
   "outputs": [
    {
     "name": "stdout",
     "output_type": "stream",
     "text": [
      "It is hot on 2021-06-20\n",
      "It is hot on 2021-06-21\n",
      "It is hot on 2021-06-22\n"
     ]
    }
   ],
   "source": [
    "for x in f:\n",
    "    if x['day']['maxtemp_f'] > 90.0:\n",
    "        print(\"It is hot on\", x['date'])\n",
    "    if x['day']['maxtemp_f'] < 65.0:\n",
    "        print(\"It is cold on\", x['date'])\n",
    "    if 65 < x['day']['maxtemp_f'] < 90: \n",
    "        print(\"It is warm on\", x['date'])"
   ]
  },
  {
   "cell_type": "code",
   "execution_count": 99,
   "metadata": {},
   "outputs": [
    {
     "name": "stdout",
     "output_type": "stream",
     "text": [
      "Soma: Looks like the above wasn't reading for 7 days even though url points to a 7-day forecast????\n"
     ]
    }
   ],
   "source": [
    "print(\"Soma: Looks like the above wasn't reading for 7 days even though url points to a 7-day forecast????\")"
   ]
  },
  {
   "cell_type": "code",
   "execution_count": null,
   "metadata": {},
   "outputs": [],
   "source": []
  },
  {
   "cell_type": "markdown",
   "metadata": {},
   "source": [
    "# 6) What will be the hottest day in the next week? What is the high temperature on that day?"
   ]
  },
  {
   "cell_type": "code",
   "execution_count": 122,
   "metadata": {},
   "outputs": [
    {
     "name": "stdout",
     "output_type": "stream",
     "text": [
      "The hottest day in the week will be 2021-06-20 at 92.7 degrees.\n"
     ]
    }
   ],
   "source": [
    "for x in f:\n",
    "    if x['day']['maxtemp_f'] == 92.7:\n",
    "        print(f\"The hottest day in the week will be {x['date']} at 92.7 degrees.\")"
   ]
  },
  {
   "cell_type": "code",
   "execution_count": null,
   "metadata": {},
   "outputs": [],
   "source": []
  },
  {
   "cell_type": "code",
   "execution_count": null,
   "metadata": {
    "collapsed": true
   },
   "outputs": [],
   "source": []
  },
  {
   "cell_type": "markdown",
   "metadata": {},
   "source": [
    "## 7) What's the weather looking like for the next 24+ hours in Miami, Florida?\n",
    "\n",
    "I'd like to know the temperature for every hour, and if it's going to have cloud cover of more than 50% say \"{temperature} and cloudy\" instead of just the temperature. \n",
    "\n",
    "- *Tip: You'll only need one day of forecast*"
   ]
  },
  {
   "cell_type": "code",
   "execution_count": 127,
   "metadata": {},
   "outputs": [],
   "source": [
    "weather4 = requests.get(\"http://api.weatherapi.com/v1/forecast.json?key=c55b37d89f7241f7a3f152341211906&q=Miami&days=1&aqi=no&alerts=no\")"
   ]
  },
  {
   "cell_type": "code",
   "execution_count": 128,
   "metadata": {},
   "outputs": [],
   "source": [
    "miami = weather4.json()"
   ]
  },
  {
   "cell_type": "code",
   "execution_count": 129,
   "metadata": {},
   "outputs": [
    {
     "name": "stdout",
     "output_type": "stream",
     "text": [
      "{'location': {'name': 'Miami', 'region': 'Florida', 'country': 'United States of America', 'lat': 25.77, 'lon': -80.19, 'tz_id': 'America/Kentucky/Monticello', 'localtime_epoch': 1624219716, 'localtime': '2021-06-20 16:08'}, 'current': {'last_updated_epoch': 1624218300, 'last_updated': '2021-06-20 15:45', 'temp_c': 32.2, 'temp_f': 90.0, 'is_day': 1, 'condition': {'text': 'Partly cloudy', 'icon': '//cdn.weatherapi.com/weather/64x64/day/116.png', 'code': 1003}, 'wind_mph': 13.6, 'wind_kph': 22.0, 'wind_degree': 130, 'wind_dir': 'SE', 'pressure_mb': 1018.0, 'pressure_in': 30.5, 'precip_mm': 0.6, 'precip_in': 0.02, 'humidity': 66, 'cloud': 75, 'feelslike_c': 41.9, 'feelslike_f': 107.3, 'vis_km': 16.0, 'vis_miles': 9.0, 'uv': 6.0, 'gust_mph': 16.1, 'gust_kph': 25.9}, 'forecast': {'forecastday': [{'date': '2021-06-20', 'date_epoch': 1624147200, 'day': {'maxtemp_c': 29.6, 'maxtemp_f': 85.3, 'mintemp_c': 27.9, 'mintemp_f': 82.2, 'avgtemp_c': 28.8, 'avgtemp_f': 83.9, 'maxwind_mph': 13.6, 'maxwind_kph': 22.0, 'totalprecip_mm': 5.9, 'totalprecip_in': 0.23, 'avgvis_km': 9.5, 'avgvis_miles': 5.0, 'avghumidity': 77.0, 'daily_will_it_rain': 1, 'daily_chance_of_rain': '87', 'daily_will_it_snow': 0, 'daily_chance_of_snow': '0', 'condition': {'text': 'Moderate rain', 'icon': '//cdn.weatherapi.com/weather/64x64/day/302.png', 'code': 1189}, 'uv': 9.0}, 'astro': {'sunrise': '06:29 AM', 'sunset': '08:15 PM', 'moonrise': '03:59 PM', 'moonset': '02:57 AM', 'moon_phase': 'Full Moon', 'moon_illumination': '76'}, 'hour': [{'time_epoch': 1624161600, 'time': '2021-06-20 00:00', 'temp_c': 28.3, 'temp_f': 82.9, 'is_day': 0, 'condition': {'text': 'Patchy rain possible', 'icon': '//cdn.weatherapi.com/weather/64x64/night/176.png', 'code': 1063}, 'wind_mph': 12.3, 'wind_kph': 19.8, 'wind_degree': 109, 'wind_dir': 'ESE', 'pressure_mb': 1019.0, 'pressure_in': 30.6, 'precip_mm': 0.0, 'precip_in': 0.0, 'humidity': 80, 'cloud': 71, 'feelslike_c': 32.9, 'feelslike_f': 91.2, 'windchill_c': 28.3, 'windchill_f': 82.9, 'heatindex_c': 32.9, 'heatindex_f': 91.2, 'dewpoint_c': 24.4, 'dewpoint_f': 75.9, 'will_it_rain': 0, 'chance_of_rain': '29', 'will_it_snow': 0, 'chance_of_snow': '0', 'vis_km': 10.0, 'vis_miles': 6.0, 'gust_mph': 16.6, 'gust_kph': 26.6, 'uv': 1.0}, {'time_epoch': 1624165200, 'time': '2021-06-20 01:00', 'temp_c': 28.3, 'temp_f': 82.9, 'is_day': 0, 'condition': {'text': 'Cloudy', 'icon': '//cdn.weatherapi.com/weather/64x64/night/119.png', 'code': 1006}, 'wind_mph': 12.1, 'wind_kph': 19.4, 'wind_degree': 117, 'wind_dir': 'ESE', 'pressure_mb': 1018.0, 'pressure_in': 30.5, 'precip_mm': 0.1, 'precip_in': 0.0, 'humidity': 79, 'cloud': 77, 'feelslike_c': 32.9, 'feelslike_f': 91.2, 'windchill_c': 28.3, 'windchill_f': 82.9, 'heatindex_c': 32.9, 'heatindex_f': 91.2, 'dewpoint_c': 24.4, 'dewpoint_f': 75.9, 'will_it_rain': 0, 'chance_of_rain': '58', 'will_it_snow': 0, 'chance_of_snow': '0', 'vis_km': 10.0, 'vis_miles': 6.0, 'gust_mph': 16.6, 'gust_kph': 26.6, 'uv': 1.0}, {'time_epoch': 1624168800, 'time': '2021-06-20 02:00', 'temp_c': 28.3, 'temp_f': 82.9, 'is_day': 0, 'condition': {'text': 'Patchy rain possible', 'icon': '//cdn.weatherapi.com/weather/64x64/night/176.png', 'code': 1063}, 'wind_mph': 11.9, 'wind_kph': 19.1, 'wind_degree': 126, 'wind_dir': 'SE', 'pressure_mb': 1018.0, 'pressure_in': 30.5, 'precip_mm': 0.1, 'precip_in': 0.0, 'humidity': 79, 'cloud': 84, 'feelslike_c': 32.8, 'feelslike_f': 91.0, 'windchill_c': 28.3, 'windchill_f': 82.9, 'heatindex_c': 32.8, 'heatindex_f': 91.0, 'dewpoint_c': 24.3, 'dewpoint_f': 75.7, 'will_it_rain': 1, 'chance_of_rain': '87', 'will_it_snow': 0, 'chance_of_snow': '0', 'vis_km': 10.0, 'vis_miles': 6.0, 'gust_mph': 16.6, 'gust_kph': 26.6, 'uv': 1.0}, {'time_epoch': 1624172400, 'time': '2021-06-20 03:00', 'temp_c': 28.2, 'temp_f': 82.8, 'is_day': 0, 'condition': {'text': 'Light rain shower', 'icon': '//cdn.weatherapi.com/weather/64x64/night/353.png', 'code': 1240}, 'wind_mph': 11.9, 'wind_kph': 19.1, 'wind_degree': 139, 'wind_dir': 'SE', 'pressure_mb': 1018.0, 'pressure_in': 30.5, 'precip_mm': 0.6, 'precip_in': 0.02, 'humidity': 80, 'cloud': 73, 'feelslike_c': 32.7, 'feelslike_f': 90.9, 'windchill_c': 28.2, 'windchill_f': 82.8, 'heatindex_c': 32.7, 'heatindex_f': 90.9, 'dewpoint_c': 24.4, 'dewpoint_f': 75.9, 'will_it_rain': 1, 'chance_of_rain': '82', 'will_it_snow': 0, 'chance_of_snow': '0', 'vis_km': 10.0, 'vis_miles': 6.0, 'gust_mph': 16.8, 'gust_kph': 27.0, 'uv': 1.0}, {'time_epoch': 1624176000, 'time': '2021-06-20 04:00', 'temp_c': 28.0, 'temp_f': 82.4, 'is_day': 0, 'condition': {'text': 'Patchy rain possible', 'icon': '//cdn.weatherapi.com/weather/64x64/night/176.png', 'code': 1063}, 'wind_mph': 12.1, 'wind_kph': 19.4, 'wind_degree': 151, 'wind_dir': 'SSE', 'pressure_mb': 1017.0, 'pressure_in': 30.5, 'precip_mm': 1.0, 'precip_in': 0.04, 'humidity': 81, 'cloud': 63, 'feelslike_c': 32.6, 'feelslike_f': 90.7, 'windchill_c': 28.0, 'windchill_f': 82.4, 'heatindex_c': 32.6, 'heatindex_f': 90.7, 'dewpoint_c': 24.5, 'dewpoint_f': 76.1, 'will_it_rain': 1, 'chance_of_rain': '76', 'will_it_snow': 0, 'chance_of_snow': '0', 'vis_km': 10.0, 'vis_miles': 6.0, 'gust_mph': 16.8, 'gust_kph': 27.0, 'uv': 1.0}, {'time_epoch': 1624179600, 'time': '2021-06-20 05:00', 'temp_c': 27.9, 'temp_f': 82.2, 'is_day': 0, 'condition': {'text': 'Light rain shower', 'icon': '//cdn.weatherapi.com/weather/64x64/night/353.png', 'code': 1240}, 'wind_mph': 12.1, 'wind_kph': 19.4, 'wind_degree': 164, 'wind_dir': 'SSE', 'pressure_mb': 1017.0, 'pressure_in': 30.5, 'precip_mm': 1.5, 'precip_in': 0.06, 'humidity': 82, 'cloud': 52, 'feelslike_c': 32.5, 'feelslike_f': 90.5, 'windchill_c': 27.9, 'windchill_f': 82.2, 'heatindex_c': 32.5, 'heatindex_f': 90.5, 'dewpoint_c': 24.6, 'dewpoint_f': 76.3, 'will_it_rain': 1, 'chance_of_rain': '71', 'will_it_snow': 0, 'chance_of_snow': '0', 'vis_km': 10.0, 'vis_miles': 6.0, 'gust_mph': 17.0, 'gust_kph': 27.4, 'uv': 1.0}, {'time_epoch': 1624183200, 'time': '2021-06-20 06:00', 'temp_c': 28.0, 'temp_f': 82.4, 'is_day': 0, 'condition': {'text': 'Light rain shower', 'icon': '//cdn.weatherapi.com/weather/64x64/night/353.png', 'code': 1240}, 'wind_mph': 11.9, 'wind_kph': 19.1, 'wind_degree': 166, 'wind_dir': 'SSE', 'pressure_mb': 1018.0, 'pressure_in': 30.5, 'precip_mm': 1.2, 'precip_in': 0.05, 'humidity': 82, 'cloud': 57, 'feelslike_c': 32.6, 'feelslike_f': 90.7, 'windchill_c': 28.0, 'windchill_f': 82.4, 'heatindex_c': 32.6, 'heatindex_f': 90.7, 'dewpoint_c': 24.6, 'dewpoint_f': 76.3, 'will_it_rain': 1, 'chance_of_rain': '72', 'will_it_snow': 0, 'chance_of_snow': '0', 'vis_km': 10.0, 'vis_miles': 6.0, 'gust_mph': 16.6, 'gust_kph': 26.6, 'uv': 1.0}, {'time_epoch': 1624186800, 'time': '2021-06-20 07:00', 'temp_c': 28.2, 'temp_f': 82.8, 'is_day': 1, 'condition': {'text': 'Light rain shower', 'icon': '//cdn.weatherapi.com/weather/64x64/day/353.png', 'code': 1240}, 'wind_mph': 11.6, 'wind_kph': 18.7, 'wind_degree': 169, 'wind_dir': 'S', 'pressure_mb': 1018.0, 'pressure_in': 30.5, 'precip_mm': 0.8, 'precip_in': 0.03, 'humidity': 81, 'cloud': 61, 'feelslike_c': 32.8, 'feelslike_f': 91.0, 'windchill_c': 28.2, 'windchill_f': 82.8, 'heatindex_c': 32.8, 'heatindex_f': 91.0, 'dewpoint_c': 24.5, 'dewpoint_f': 76.1, 'will_it_rain': 1, 'chance_of_rain': '73', 'will_it_snow': 0, 'chance_of_snow': '0', 'vis_km': 10.0, 'vis_miles': 6.0, 'gust_mph': 15.9, 'gust_kph': 25.6, 'uv': 6.0}, {'time_epoch': 1624190400, 'time': '2021-06-20 08:00', 'temp_c': 28.3, 'temp_f': 82.9, 'is_day': 1, 'condition': {'text': 'Light rain shower', 'icon': '//cdn.weatherapi.com/weather/64x64/day/353.png', 'code': 1240}, 'wind_mph': 11.4, 'wind_kph': 18.4, 'wind_degree': 172, 'wind_dir': 'S', 'pressure_mb': 1019.0, 'pressure_in': 30.6, 'precip_mm': 0.5, 'precip_in': 0.02, 'humidity': 80, 'cloud': 66, 'feelslike_c': 32.9, 'feelslike_f': 91.2, 'windchill_c': 28.3, 'windchill_f': 82.9, 'heatindex_c': 32.9, 'heatindex_f': 91.2, 'dewpoint_c': 24.5, 'dewpoint_f': 76.1, 'will_it_rain': 1, 'chance_of_rain': '74', 'will_it_snow': 0, 'chance_of_snow': '0', 'vis_km': 10.0, 'vis_miles': 6.0, 'gust_mph': 15.4, 'gust_kph': 24.8, 'uv': 6.0}, {'time_epoch': 1624194000, 'time': '2021-06-20 09:00', 'temp_c': 28.7, 'temp_f': 83.7, 'is_day': 1, 'condition': {'text': 'Patchy rain possible', 'icon': '//cdn.weatherapi.com/weather/64x64/day/176.png', 'code': 1063}, 'wind_mph': 11.6, 'wind_kph': 18.7, 'wind_degree': 171, 'wind_dir': 'S', 'pressure_mb': 1019.0, 'pressure_in': 30.6, 'precip_mm': 0.5, 'precip_in': 0.02, 'humidity': 78, 'cloud': 67, 'feelslike_c': 33.4, 'feelslike_f': 92.1, 'windchill_c': 28.7, 'windchill_f': 83.7, 'heatindex_c': 33.4, 'heatindex_f': 92.1, 'dewpoint_c': 24.4, 'dewpoint_f': 75.9, 'will_it_rain': 1, 'chance_of_rain': '73', 'will_it_snow': 0, 'chance_of_snow': '0', 'vis_km': 9.7, 'vis_miles': 6.0, 'gust_mph': 15.4, 'gust_kph': 24.8, 'uv': 6.0}, {'time_epoch': 1624197600, 'time': '2021-06-20 10:00', 'temp_c': 29.0, 'temp_f': 84.2, 'is_day': 1, 'condition': {'text': 'Light rain shower', 'icon': '//cdn.weatherapi.com/weather/64x64/day/353.png', 'code': 1240}, 'wind_mph': 11.6, 'wind_kph': 18.7, 'wind_degree': 171, 'wind_dir': 'S', 'pressure_mb': 1019.0, 'pressure_in': 30.6, 'precip_mm': 0.4, 'precip_in': 0.02, 'humidity': 76, 'cloud': 69, 'feelslike_c': 33.9, 'feelslike_f': 93.0, 'windchill_c': 29.0, 'windchill_f': 84.2, 'heatindex_c': 33.9, 'heatindex_f': 93.0, 'dewpoint_c': 24.4, 'dewpoint_f': 75.9, 'will_it_rain': 1, 'chance_of_rain': '72', 'will_it_snow': 0, 'chance_of_snow': '0', 'vis_km': 9.3, 'vis_miles': 5.0, 'gust_mph': 15.2, 'gust_kph': 24.5, 'uv': 6.0}, {'time_epoch': 1624201200, 'time': '2021-06-20 11:00', 'temp_c': 29.4, 'temp_f': 84.9, 'is_day': 1, 'condition': {'text': 'Patchy rain possible', 'icon': '//cdn.weatherapi.com/weather/64x64/day/176.png', 'code': 1063}, 'wind_mph': 11.9, 'wind_kph': 19.1, 'wind_degree': 170, 'wind_dir': 'S', 'pressure_mb': 1019.0, 'pressure_in': 30.6, 'precip_mm': 0.4, 'precip_in': 0.02, 'humidity': 74, 'cloud': 70, 'feelslike_c': 34.4, 'feelslike_f': 93.9, 'windchill_c': 29.4, 'windchill_f': 84.9, 'heatindex_c': 34.4, 'heatindex_f': 93.9, 'dewpoint_c': 24.3, 'dewpoint_f': 75.7, 'will_it_rain': 1, 'chance_of_rain': '71', 'will_it_snow': 0, 'chance_of_snow': '0', 'vis_km': 9.0, 'vis_miles': 5.0, 'gust_mph': 15.2, 'gust_kph': 24.5, 'uv': 6.0}, {'time_epoch': 1624204800, 'time': '2021-06-20 12:00', 'temp_c': 29.5, 'temp_f': 85.1, 'is_day': 1, 'condition': {'text': 'Patchy rain possible', 'icon': '//cdn.weatherapi.com/weather/64x64/day/176.png', 'code': 1063}, 'wind_mph': 12.5, 'wind_kph': 20.2, 'wind_degree': 165, 'wind_dir': 'SSE', 'pressure_mb': 1019.0, 'pressure_in': 30.6, 'precip_mm': 0.6, 'precip_in': 0.02, 'humidity': 74, 'cloud': 71, 'feelslike_c': 34.5, 'feelslike_f': 94.1, 'windchill_c': 29.5, 'windchill_f': 85.1, 'heatindex_c': 34.5, 'heatindex_f': 94.1, 'dewpoint_c': 24.3, 'dewpoint_f': 75.7, 'will_it_rain': 1, 'chance_of_rain': '73', 'will_it_snow': 0, 'chance_of_snow': '0', 'vis_km': 9.0, 'vis_miles': 5.0, 'gust_mph': 16.1, 'gust_kph': 25.9, 'uv': 6.0}, {'time_epoch': 1624208400, 'time': '2021-06-20 13:00', 'temp_c': 29.5, 'temp_f': 85.1, 'is_day': 1, 'condition': {'text': 'Patchy rain possible', 'icon': '//cdn.weatherapi.com/weather/64x64/day/176.png', 'code': 1063}, 'wind_mph': 13.0, 'wind_kph': 20.9, 'wind_degree': 160, 'wind_dir': 'SSE', 'pressure_mb': 1019.0, 'pressure_in': 30.6, 'precip_mm': 0.8, 'precip_in': 0.03, 'humidity': 74, 'cloud': 72, 'feelslike_c': 34.7, 'feelslike_f': 94.5, 'windchill_c': 29.5, 'windchill_f': 85.1, 'heatindex_c': 34.7, 'heatindex_f': 94.5, 'dewpoint_c': 24.4, 'dewpoint_f': 75.9, 'will_it_rain': 1, 'chance_of_rain': '76', 'will_it_snow': 0, 'chance_of_snow': '0', 'vis_km': 9.0, 'vis_miles': 5.0, 'gust_mph': 17.0, 'gust_kph': 27.4, 'uv': 6.0}, {'time_epoch': 1624212000, 'time': '2021-06-20 14:00', 'temp_c': 29.6, 'temp_f': 85.3, 'is_day': 1, 'condition': {'text': 'Patchy rain possible', 'icon': '//cdn.weatherapi.com/weather/64x64/day/176.png', 'code': 1063}, 'wind_mph': 13.6, 'wind_kph': 22.0, 'wind_degree': 155, 'wind_dir': 'SSE', 'pressure_mb': 1018.0, 'pressure_in': 30.5, 'precip_mm': 1.0, 'precip_in': 0.04, 'humidity': 74, 'cloud': 73, 'feelslike_c': 34.8, 'feelslike_f': 94.6, 'windchill_c': 29.6, 'windchill_f': 85.3, 'heatindex_c': 34.8, 'heatindex_f': 94.6, 'dewpoint_c': 24.4, 'dewpoint_f': 75.9, 'will_it_rain': 1, 'chance_of_rain': '78', 'will_it_snow': 0, 'chance_of_snow': '0', 'vis_km': 9.0, 'vis_miles': 5.0, 'gust_mph': 17.9, 'gust_kph': 28.8, 'uv': 6.0}, {'time_epoch': 1624215600, 'time': '2021-06-20 15:00', 'temp_c': 29.5, 'temp_f': 85.1, 'is_day': 1, 'condition': {'text': 'Patchy rain possible', 'icon': '//cdn.weatherapi.com/weather/64x64/day/176.png', 'code': 1063}, 'wind_mph': 13.2, 'wind_kph': 21.2, 'wind_degree': 158, 'wind_dir': 'SSE', 'pressure_mb': 1018.0, 'pressure_in': 30.5, 'precip_mm': 1.3, 'precip_in': 0.05, 'humidity': 73, 'cloud': 78, 'feelslike_c': 34.6, 'feelslike_f': 94.3, 'windchill_c': 29.5, 'windchill_f': 85.1, 'heatindex_c': 34.6, 'heatindex_f': 94.3, 'dewpoint_c': 24.3, 'dewpoint_f': 75.7, 'will_it_rain': 1, 'chance_of_rain': '75', 'will_it_snow': 0, 'chance_of_snow': '0', 'vis_km': 9.0, 'vis_miles': 5.0, 'gust_mph': 18.1, 'gust_kph': 29.2, 'uv': 6.0}, {'time_epoch': 1624219200, 'time': '2021-06-20 16:00', 'temp_c': 29.5, 'temp_f': 85.1, 'is_day': 1, 'condition': {'text': 'Patchy rain possible', 'icon': '//cdn.weatherapi.com/weather/64x64/day/176.png', 'code': 1063}, 'wind_mph': 12.8, 'wind_kph': 20.5, 'wind_degree': 161, 'wind_dir': 'SSE', 'pressure_mb': 1018.0, 'pressure_in': 30.5, 'precip_mm': 1.7, 'precip_in': 0.07, 'humidity': 73, 'cloud': 82, 'feelslike_c': 34.4, 'feelslike_f': 93.9, 'windchill_c': 29.5, 'windchill_f': 85.1, 'heatindex_c': 34.4, 'heatindex_f': 93.9, 'dewpoint_c': 24.1, 'dewpoint_f': 75.4, 'will_it_rain': 1, 'chance_of_rain': '72', 'will_it_snow': 0, 'chance_of_snow': '0', 'vis_km': 9.0, 'vis_miles': 5.0, 'gust_mph': 18.1, 'gust_kph': 29.2, 'uv': 6.0}, {'time_epoch': 1624222800, 'time': '2021-06-20 17:00', 'temp_c': 29.4, 'temp_f': 84.9, 'is_day': 1, 'condition': {'text': 'Patchy rain possible', 'icon': '//cdn.weatherapi.com/weather/64x64/day/176.png', 'code': 1063}, 'wind_mph': 12.3, 'wind_kph': 19.8, 'wind_degree': 163, 'wind_dir': 'SSE', 'pressure_mb': 1017.0, 'pressure_in': 30.5, 'precip_mm': 2.0, 'precip_in': 0.08, 'humidity': 73, 'cloud': 87, 'feelslike_c': 34.2, 'feelslike_f': 93.6, 'windchill_c': 29.4, 'windchill_f': 84.9, 'heatindex_c': 34.2, 'heatindex_f': 93.6, 'dewpoint_c': 24.0, 'dewpoint_f': 75.2, 'will_it_rain': 0, 'chance_of_rain': '69', 'will_it_snow': 0, 'chance_of_snow': '0', 'vis_km': 9.0, 'vis_miles': 5.0, 'gust_mph': 18.3, 'gust_kph': 29.5, 'uv': 6.0}, {'time_epoch': 1624226400, 'time': '2021-06-20 18:00', 'temp_c': 29.3, 'temp_f': 84.7, 'is_day': 1, 'condition': {'text': 'Partly cloudy', 'icon': '//cdn.weatherapi.com/weather/64x64/day/116.png', 'code': 1003}, 'wind_mph': 11.9, 'wind_kph': 19.1, 'wind_degree': 166, 'wind_dir': 'SSE', 'pressure_mb': 1017.0, 'pressure_in': 30.5, 'precip_mm': 1.3, 'precip_in': 0.05, 'humidity': 74, 'cloud': 65, 'feelslike_c': 34.1, 'feelslike_f': 93.4, 'windchill_c': 29.3, 'windchill_f': 84.7, 'heatindex_c': 34.1, 'heatindex_f': 93.4, 'dewpoint_c': 24.1, 'dewpoint_f': 75.4, 'will_it_rain': 0, 'chance_of_rain': '46', 'will_it_snow': 0, 'chance_of_snow': '0', 'vis_km': 9.3, 'vis_miles': 5.0, 'gust_mph': 17.4, 'gust_kph': 28.1, 'uv': 7.0}, {'time_epoch': 1624230000, 'time': '2021-06-20 19:00', 'temp_c': 29.1, 'temp_f': 84.4, 'is_day': 1, 'condition': {'text': 'Patchy rain possible', 'icon': '//cdn.weatherapi.com/weather/64x64/day/176.png', 'code': 1063}, 'wind_mph': 11.6, 'wind_kph': 18.7, 'wind_degree': 168, 'wind_dir': 'SSE', 'pressure_mb': 1018.0, 'pressure_in': 30.5, 'precip_mm': 0.7, 'precip_in': 0.03, 'humidity': 75, 'cloud': 43, 'feelslike_c': 34.0, 'feelslike_f': 93.2, 'windchill_c': 29.1, 'windchill_f': 84.4, 'heatindex_c': 34.0, 'heatindex_f': 93.2, 'dewpoint_c': 24.2, 'dewpoint_f': 75.6, 'will_it_rain': 0, 'chance_of_rain': '23', 'will_it_snow': 0, 'chance_of_snow': '0', 'vis_km': 9.7, 'vis_miles': 6.0, 'gust_mph': 16.3, 'gust_kph': 26.3, 'uv': 6.0}, {'time_epoch': 1624233600, 'time': '2021-06-20 20:00', 'temp_c': 29.0, 'temp_f': 84.2, 'is_day': 1, 'condition': {'text': 'Partly cloudy', 'icon': '//cdn.weatherapi.com/weather/64x64/day/116.png', 'code': 1003}, 'wind_mph': 11.2, 'wind_kph': 18.0, 'wind_degree': 171, 'wind_dir': 'S', 'pressure_mb': 1018.0, 'pressure_in': 30.5, 'precip_mm': 0.0, 'precip_in': 0.0, 'humidity': 76, 'cloud': 21, 'feelslike_c': 33.9, 'feelslike_f': 93.0, 'windchill_c': 29.0, 'windchill_f': 84.2, 'heatindex_c': 33.9, 'heatindex_f': 93.0, 'dewpoint_c': 24.3, 'dewpoint_f': 75.7, 'will_it_rain': 0, 'chance_of_rain': '0', 'will_it_snow': 0, 'chance_of_snow': '0', 'vis_km': 10.0, 'vis_miles': 6.0, 'gust_mph': 15.4, 'gust_kph': 24.8, 'uv': 7.0}, {'time_epoch': 1624237200, 'time': '2021-06-20 21:00', 'temp_c': 28.9, 'temp_f': 84.0, 'is_day': 0, 'condition': {'text': 'Patchy rain possible', 'icon': '//cdn.weatherapi.com/weather/64x64/night/176.png', 'code': 1063}, 'wind_mph': 11.0, 'wind_kph': 17.6, 'wind_degree': 172, 'wind_dir': 'S', 'pressure_mb': 1018.0, 'pressure_in': 30.5, 'precip_mm': 0.1, 'precip_in': 0.0, 'humidity': 77, 'cloud': 40, 'feelslike_c': 33.7, 'feelslike_f': 92.7, 'windchill_c': 28.9, 'windchill_f': 84.0, 'heatindex_c': 33.7, 'heatindex_f': 92.7, 'dewpoint_c': 24.3, 'dewpoint_f': 75.7, 'will_it_rain': 0, 'chance_of_rain': '26', 'will_it_snow': 0, 'chance_of_snow': '0', 'vis_km': 9.7, 'vis_miles': 6.0, 'gust_mph': 15.0, 'gust_kph': 24.1, 'uv': 1.0}, {'time_epoch': 1624240800, 'time': '2021-06-20 22:00', 'temp_c': 28.7, 'temp_f': 83.7, 'is_day': 0, 'condition': {'text': 'Partly cloudy', 'icon': '//cdn.weatherapi.com/weather/64x64/night/116.png', 'code': 1003}, 'wind_mph': 10.5, 'wind_kph': 16.9, 'wind_degree': 174, 'wind_dir': 'S', 'pressure_mb': 1018.0, 'pressure_in': 30.5, 'precip_mm': 0.3, 'precip_in': 0.01, 'humidity': 77, 'cloud': 60, 'feelslike_c': 33.5, 'feelslike_f': 92.3, 'windchill_c': 28.7, 'windchill_f': 83.7, 'heatindex_c': 33.5, 'heatindex_f': 92.3, 'dewpoint_c': 24.4, 'dewpoint_f': 75.9, 'will_it_rain': 0, 'chance_of_rain': '52', 'will_it_snow': 0, 'chance_of_snow': '0', 'vis_km': 9.3, 'vis_miles': 5.0, 'gust_mph': 14.5, 'gust_kph': 23.4, 'uv': 1.0}, {'time_epoch': 1624244400, 'time': '2021-06-20 23:00', 'temp_c': 28.6, 'temp_f': 83.5, 'is_day': 0, 'condition': {'text': 'Patchy rain possible', 'icon': '//cdn.weatherapi.com/weather/64x64/night/176.png', 'code': 1063}, 'wind_mph': 10.3, 'wind_kph': 16.6, 'wind_degree': 175, 'wind_dir': 'S', 'pressure_mb': 1018.0, 'pressure_in': 30.6, 'precip_mm': 0.4, 'precip_in': 0.02, 'humidity': 78, 'cloud': 80, 'feelslike_c': 33.3, 'feelslike_f': 91.9, 'windchill_c': 28.6, 'windchill_f': 83.5, 'heatindex_c': 33.3, 'heatindex_f': 91.9, 'dewpoint_c': 24.4, 'dewpoint_f': 75.9, 'will_it_rain': 1, 'chance_of_rain': '78', 'will_it_snow': 0, 'chance_of_snow': '0', 'vis_km': 9.0, 'vis_miles': 5.0, 'gust_mph': 14.1, 'gust_kph': 22.7, 'uv': 1.0}]}]}}\n"
     ]
    }
   ],
   "source": [
    "print(miami)"
   ]
  },
  {
   "cell_type": "markdown",
   "metadata": {},
   "source": [
    "# 8) For the next 24-ish hours in Miami, what percent of the time is the temperature above 85 degrees?\n",
    "\n",
    "- *Tip: You might want to read up on [looping patterns](http://jonathansoma.com/lede/foundations-2017/classes/data%20structures/looping-patterns/)*"
   ]
  },
  {
   "cell_type": "code",
   "execution_count": 173,
   "metadata": {},
   "outputs": [
    {
     "name": "stdout",
     "output_type": "stream",
     "text": [
      "{'date': {...}, 'date_epoch': 1624147200, 'day': {...}, 'astro': {'sunrise': '06:29 AM', 'sunset': '08:15 PM', 'moonrise': '03:59 PM', 'moonset': '02:57 AM', 'moon_phase': 'Full Moon', 'moon_illumination': '76'}, 'hour': {...}}\n"
     ]
    }
   ],
   "source": [
    "x = (miami['forecast']['forecastday'])\n",
    "for d in x:\n",
    "    print(d['hour'])"
   ]
  },
  {
   "cell_type": "code",
   "execution_count": null,
   "metadata": {
    "collapsed": true
   },
   "outputs": [],
   "source": []
  },
  {
   "cell_type": "code",
   "execution_count": null,
   "metadata": {
    "collapsed": true
   },
   "outputs": [],
   "source": []
  },
  {
   "cell_type": "markdown",
   "metadata": {},
   "source": [
    "## 9) What was the temperature in Central Park on Christmas Day, 2020? How about 2012? 2007? How far back does the API allow you to go?\n",
    "\n",
    "- *Tip: You'll need to use latitude/longitude. You can ask Google where Central Park is, it knows*\n",
    "- *Tip: Remember when latitude/longitude might use negative numbers*"
   ]
  },
  {
   "cell_type": "code",
   "execution_count": 3,
   "metadata": {},
   "outputs": [],
   "source": [
    "import requests"
   ]
  },
  {
   "cell_type": "code",
   "execution_count": 4,
   "metadata": {},
   "outputs": [],
   "source": [
    "cp_c = requests.get(\"http://api.weatherapi.com/v1/history.json?key=c55b37d89f7241f7a3f152341211906&q=40.7812/73.9665&dt=202-12-25\")"
   ]
  },
  {
   "cell_type": "code",
   "execution_count": 5,
   "metadata": {},
   "outputs": [],
   "source": [
    "cp_cd = cp_c.json()"
   ]
  },
  {
   "cell_type": "code",
   "execution_count": 6,
   "metadata": {},
   "outputs": [],
   "source": [
    "#Error message: \"message\": \"API key is limited to get history data. Please check our pricing page and upgrade to higher plan.\""
   ]
  },
  {
   "cell_type": "code",
   "execution_count": 7,
   "metadata": {},
   "outputs": [
    {
     "name": "stdout",
     "output_type": "stream",
     "text": [
      "API only allows 1 week back.\n"
     ]
    }
   ],
   "source": [
    "print(\"API only allows 1 week back.\")"
   ]
  },
  {
   "cell_type": "code",
   "execution_count": null,
   "metadata": {},
   "outputs": [],
   "source": []
  }
 ],
 "metadata": {
  "kernelspec": {
   "display_name": "Python 3",
   "language": "python",
   "name": "python3"
  },
  "language_info": {
   "codemirror_mode": {
    "name": "ipython",
    "version": 3
   },
   "file_extension": ".py",
   "mimetype": "text/x-python",
   "name": "python",
   "nbconvert_exporter": "python",
   "pygments_lexer": "ipython3",
   "version": "3.8.10"
  }
 },
 "nbformat": 4,
 "nbformat_minor": 1
}
